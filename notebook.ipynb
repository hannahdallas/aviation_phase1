{
 "cells": [
  {
   "cell_type": "markdown",
   "id": "38ec000e",
   "metadata": {},
   "source": [
    "# Business Understanding"
   ]
  },
  {
   "cell_type": "markdown",
   "id": "85a466c4",
   "metadata": {},
   "source": []
  },
  {
   "cell_type": "markdown",
   "id": "28961224",
   "metadata": {},
   "source": [
    "# Data Understanding"
   ]
  },
  {
   "cell_type": "code",
   "execution_count": 66,
   "id": "1a30b4d9",
   "metadata": {
    "scrolled": true
   },
   "outputs": [],
   "source": [
    "import pandas as pd\n",
    "import numpy as np\n",
    "import csv\n",
    "from matplotlib import pyplot as plt\n",
    "%matplotlib inline"
   ]
  },
  {
   "cell_type": "code",
   "execution_count": 67,
   "id": "10796d80",
   "metadata": {},
   "outputs": [
    {
     "name": "stderr",
     "output_type": "stream",
     "text": [
      "C:\\Users\\hrcoh\\AppData\\Local\\Temp\\ipykernel_40888\\2555783615.py:1: DtypeWarning: Columns (6,7,28) have mixed types. Specify dtype option on import or set low_memory=False.\n",
      "  df=pd.read_csv('Data/AviationData.csv', encoding='latin-1')\n"
     ]
    }
   ],
   "source": [
    "df=pd.read_csv('Data/AviationData.csv', encoding='latin-1')"
   ]
  },
  {
   "cell_type": "code",
   "execution_count": 68,
   "id": "d35f0823",
   "metadata": {},
   "outputs": [
    {
     "data": {
      "text/plain": [
       "Index(['Event.Id', 'Investigation.Type', 'Accident.Number', 'Event.Date',\n",
       "       'Location', 'Country', 'Latitude', 'Longitude', 'Airport.Code',\n",
       "       'Airport.Name', 'Injury.Severity', 'Aircraft.damage',\n",
       "       'Aircraft.Category', 'Registration.Number', 'Make', 'Model',\n",
       "       'Amateur.Built', 'Number.of.Engines', 'Engine.Type', 'FAR.Description',\n",
       "       'Schedule', 'Purpose.of.flight', 'Air.carrier', 'Total.Fatal.Injuries',\n",
       "       'Total.Serious.Injuries', 'Total.Minor.Injuries', 'Total.Uninjured',\n",
       "       'Weather.Condition', 'Broad.phase.of.flight', 'Report.Status',\n",
       "       'Publication.Date'],\n",
       "      dtype='object')"
      ]
     },
     "execution_count": 68,
     "metadata": {},
     "output_type": "execute_result"
    }
   ],
   "source": [
    "df.columns"
   ]
  },
  {
   "cell_type": "code",
   "execution_count": 69,
   "id": "d2d29a20",
   "metadata": {},
   "outputs": [
    {
     "name": "stdout",
     "output_type": "stream",
     "text": [
      "<class 'pandas.core.frame.DataFrame'>\n",
      "RangeIndex: 88889 entries, 0 to 88888\n",
      "Data columns (total 31 columns):\n",
      " #   Column                  Non-Null Count  Dtype  \n",
      "---  ------                  --------------  -----  \n",
      " 0   Event.Id                88889 non-null  object \n",
      " 1   Investigation.Type      88889 non-null  object \n",
      " 2   Accident.Number         88889 non-null  object \n",
      " 3   Event.Date              88889 non-null  object \n",
      " 4   Location                88837 non-null  object \n",
      " 5   Country                 88663 non-null  object \n",
      " 6   Latitude                34382 non-null  object \n",
      " 7   Longitude               34373 non-null  object \n",
      " 8   Airport.Code            50132 non-null  object \n",
      " 9   Airport.Name            52704 non-null  object \n",
      " 10  Injury.Severity         87889 non-null  object \n",
      " 11  Aircraft.damage         85695 non-null  object \n",
      " 12  Aircraft.Category       32287 non-null  object \n",
      " 13  Registration.Number     87507 non-null  object \n",
      " 14  Make                    88826 non-null  object \n",
      " 15  Model                   88797 non-null  object \n",
      " 16  Amateur.Built           88787 non-null  object \n",
      " 17  Number.of.Engines       82805 non-null  float64\n",
      " 18  Engine.Type             81793 non-null  object \n",
      " 19  FAR.Description         32023 non-null  object \n",
      " 20  Schedule                12582 non-null  object \n",
      " 21  Purpose.of.flight       82697 non-null  object \n",
      " 22  Air.carrier             16648 non-null  object \n",
      " 23  Total.Fatal.Injuries    77488 non-null  float64\n",
      " 24  Total.Serious.Injuries  76379 non-null  float64\n",
      " 25  Total.Minor.Injuries    76956 non-null  float64\n",
      " 26  Total.Uninjured         82977 non-null  float64\n",
      " 27  Weather.Condition       84397 non-null  object \n",
      " 28  Broad.phase.of.flight   61724 non-null  object \n",
      " 29  Report.Status           82505 non-null  object \n",
      " 30  Publication.Date        75118 non-null  object \n",
      "dtypes: float64(5), object(26)\n",
      "memory usage: 21.0+ MB\n"
     ]
    }
   ],
   "source": [
    "#Explore data\n",
    "df.info()"
   ]
  },
  {
   "cell_type": "code",
   "execution_count": 70,
   "id": "29ab6a75",
   "metadata": {},
   "outputs": [
    {
     "data": {
      "text/html": [
       "<div>\n",
       "<style scoped>\n",
       "    .dataframe tbody tr th:only-of-type {\n",
       "        vertical-align: middle;\n",
       "    }\n",
       "\n",
       "    .dataframe tbody tr th {\n",
       "        vertical-align: top;\n",
       "    }\n",
       "\n",
       "    .dataframe thead th {\n",
       "        text-align: right;\n",
       "    }\n",
       "</style>\n",
       "<table border=\"1\" class=\"dataframe\">\n",
       "  <thead>\n",
       "    <tr style=\"text-align: right;\">\n",
       "      <th></th>\n",
       "      <th>Number.of.Engines</th>\n",
       "      <th>Total.Fatal.Injuries</th>\n",
       "      <th>Total.Serious.Injuries</th>\n",
       "      <th>Total.Minor.Injuries</th>\n",
       "      <th>Total.Uninjured</th>\n",
       "    </tr>\n",
       "  </thead>\n",
       "  <tbody>\n",
       "    <tr>\n",
       "      <th>count</th>\n",
       "      <td>82805.000000</td>\n",
       "      <td>77488.000000</td>\n",
       "      <td>76379.000000</td>\n",
       "      <td>76956.000000</td>\n",
       "      <td>82977.000000</td>\n",
       "    </tr>\n",
       "    <tr>\n",
       "      <th>mean</th>\n",
       "      <td>1.146585</td>\n",
       "      <td>0.647855</td>\n",
       "      <td>0.279881</td>\n",
       "      <td>0.357061</td>\n",
       "      <td>5.325440</td>\n",
       "    </tr>\n",
       "    <tr>\n",
       "      <th>std</th>\n",
       "      <td>0.446510</td>\n",
       "      <td>5.485960</td>\n",
       "      <td>1.544084</td>\n",
       "      <td>2.235625</td>\n",
       "      <td>27.913634</td>\n",
       "    </tr>\n",
       "    <tr>\n",
       "      <th>min</th>\n",
       "      <td>0.000000</td>\n",
       "      <td>0.000000</td>\n",
       "      <td>0.000000</td>\n",
       "      <td>0.000000</td>\n",
       "      <td>0.000000</td>\n",
       "    </tr>\n",
       "    <tr>\n",
       "      <th>25%</th>\n",
       "      <td>1.000000</td>\n",
       "      <td>0.000000</td>\n",
       "      <td>0.000000</td>\n",
       "      <td>0.000000</td>\n",
       "      <td>0.000000</td>\n",
       "    </tr>\n",
       "    <tr>\n",
       "      <th>50%</th>\n",
       "      <td>1.000000</td>\n",
       "      <td>0.000000</td>\n",
       "      <td>0.000000</td>\n",
       "      <td>0.000000</td>\n",
       "      <td>1.000000</td>\n",
       "    </tr>\n",
       "    <tr>\n",
       "      <th>75%</th>\n",
       "      <td>1.000000</td>\n",
       "      <td>0.000000</td>\n",
       "      <td>0.000000</td>\n",
       "      <td>0.000000</td>\n",
       "      <td>2.000000</td>\n",
       "    </tr>\n",
       "    <tr>\n",
       "      <th>max</th>\n",
       "      <td>8.000000</td>\n",
       "      <td>349.000000</td>\n",
       "      <td>161.000000</td>\n",
       "      <td>380.000000</td>\n",
       "      <td>699.000000</td>\n",
       "    </tr>\n",
       "  </tbody>\n",
       "</table>\n",
       "</div>"
      ],
      "text/plain": [
       "       Number.of.Engines  Total.Fatal.Injuries  Total.Serious.Injuries  \\\n",
       "count       82805.000000          77488.000000            76379.000000   \n",
       "mean            1.146585              0.647855                0.279881   \n",
       "std             0.446510              5.485960                1.544084   \n",
       "min             0.000000              0.000000                0.000000   \n",
       "25%             1.000000              0.000000                0.000000   \n",
       "50%             1.000000              0.000000                0.000000   \n",
       "75%             1.000000              0.000000                0.000000   \n",
       "max             8.000000            349.000000              161.000000   \n",
       "\n",
       "       Total.Minor.Injuries  Total.Uninjured  \n",
       "count          76956.000000     82977.000000  \n",
       "mean               0.357061         5.325440  \n",
       "std                2.235625        27.913634  \n",
       "min                0.000000         0.000000  \n",
       "25%                0.000000         0.000000  \n",
       "50%                0.000000         1.000000  \n",
       "75%                0.000000         2.000000  \n",
       "max              380.000000       699.000000  "
      ]
     },
     "execution_count": 70,
     "metadata": {},
     "output_type": "execute_result"
    }
   ],
   "source": [
    "#Explore summary statistics\n",
    "df.describe()"
   ]
  },
  {
   "cell_type": "code",
   "execution_count": null,
   "id": "e6eb5f6d",
   "metadata": {},
   "outputs": [],
   "source": []
  },
  {
   "cell_type": "code",
   "execution_count": 71,
   "id": "92bf4fd5",
   "metadata": {},
   "outputs": [
    {
     "name": "stdout",
     "output_type": "stream",
     "text": [
      "['No' 'Yes' nan] \n",
      "\n",
      "[nan 'Part 129: Foreign' 'Part 91: General Aviation'\n",
      " 'Part 135: Air Taxi & Commuter' 'Part 125: 20+ Pax,6000+ lbs'\n",
      " 'Part 121: Air Carrier' 'Part 137: Agricultural'\n",
      " 'Part 133: Rotorcraft Ext. Load' 'Unknown' 'Part 91F: Special Flt Ops.'\n",
      " 'Non-U.S., Non-Commercial' 'Public Aircraft' 'Non-U.S., Commercial'\n",
      " 'Public Use' 'Armed Forces' 'Part 91 Subpart K: Fractional' '091' 'NUSC'\n",
      " '135' 'NUSN' '121' '137' '129' '133' '091K' 'UNK' 'PUBU' 'ARMF' '103'\n",
      " '125' '437' '107'] \n",
      "\n",
      "[nan 'SCHD' 'NSCH' 'UNK'] \n",
      "\n",
      "['Probable Cause' 'Factual' 'Foreign' ...\n",
      " 'The pilot did not ensure adequate clearance from construction vehicles during taxi.'\n",
      " 'The pilot\\x92s failure to secure the magneto switch before attempting to hand rotate the engine which resulted in an inadvertent engine start, a runaway airplane, and subsequent impact with parked airplanes. Contributing to the accident was the failure to properly secure the airplane with chocks.'\n",
      " 'The pilot\\x92s loss of control due to a wind gust during landing.'] \n",
      "\n",
      "['NC6404' 'N5069P' 'N5142R' ... 'N749PJ' 'N210CU' 'N9026P'] \n",
      "\n",
      "['Destroyed' 'Substantial' 'Minor' nan 'Unknown'] \n",
      "\n",
      "['Reciprocating' nan 'Turbo Fan' 'Turbo Shaft' 'Unknown' 'Turbo Prop'\n",
      " 'Turbo Jet' 'Electric' 'Hybrid Rocket' 'Geared Turbofan' 'LR' 'NONE'\n",
      " 'UNK'] \n",
      "\n",
      "[nan 'Airplane' 'Helicopter' 'Glider' 'Balloon' 'Gyrocraft' 'Ultralight'\n",
      " 'Unknown' 'Blimp' 'Powered-Lift' 'Weight-Shift' 'Powered Parachute'\n",
      " 'Rocket' 'WSFT' 'UNK' 'ULTR']\n"
     ]
    }
   ],
   "source": [
    "#Looking at unique values in the columns that I don't fully understand\n",
    "print(df['Amateur.Built'].unique(),'\\n')\n",
    "print(df['FAR.Description'].unique(),'\\n')\n",
    "print(df['Schedule'].unique(),'\\n')\n",
    "print(df['Report.Status'].unique(),'\\n')\n",
    "print(df['Registration.Number'].unique(),'\\n')\n",
    "print(df['Aircraft.damage'].unique(),'\\n')\n",
    "print(df['Engine.Type'].unique(),'\\n')\n",
    "print(df['Aircraft.Category'].unique())"
   ]
  },
  {
   "cell_type": "markdown",
   "id": "e67f0159",
   "metadata": {},
   "source": [
    "For our analysis, we can drop FAR Description, Schedule, and Registration Number. Report Status. Amateur Built, Aircraft Category, Engine Type and Aircraft Damage may be helpful."
   ]
  },
  {
   "cell_type": "code",
   "execution_count": 72,
   "id": "531f0e75",
   "metadata": {},
   "outputs": [
    {
     "name": "stdout",
     "output_type": "stream",
     "text": [
      "['Fatal(2)' 'Fatal(4)' 'Fatal(3)' 'Fatal(1)' 'Non-Fatal' 'Incident'\n",
      " 'Fatal(8)' 'Fatal(78)' 'Fatal(7)' 'Fatal(6)' 'Fatal(5)' 'Fatal(153)'\n",
      " 'Fatal(12)' 'Fatal(14)' 'Fatal(23)' 'Fatal(10)' 'Fatal(11)' 'Fatal(9)'\n",
      " 'Fatal(17)' 'Fatal(13)' 'Fatal(29)' 'Fatal(70)' 'Unavailable'\n",
      " 'Fatal(135)' 'Fatal(31)' 'Fatal(256)' 'Fatal(25)' 'Fatal(82)'\n",
      " 'Fatal(156)' 'Fatal(28)' 'Fatal(18)' 'Fatal(43)' 'Fatal(15)' 'Fatal(270)'\n",
      " 'Fatal(144)' 'Fatal(174)' 'Fatal(111)' 'Fatal(131)' 'Fatal(20)'\n",
      " 'Fatal(73)' 'Fatal(27)' 'Fatal(34)' 'Fatal(87)' 'Fatal(30)' 'Fatal(16)'\n",
      " 'Fatal(47)' 'Fatal(56)' 'Fatal(37)' 'Fatal(132)' 'Fatal(68)' 'Fatal(54)'\n",
      " 'Fatal(52)' 'Fatal(65)' 'Fatal(72)' 'Fatal(160)' 'Fatal(189)'\n",
      " 'Fatal(123)' 'Fatal(33)' 'Fatal(110)' 'Fatal(230)' 'Fatal(97)'\n",
      " 'Fatal(349)' 'Fatal(125)' 'Fatal(35)' 'Fatal(228)' 'Fatal(75)'\n",
      " 'Fatal(104)' 'Fatal(229)' 'Fatal(80)' 'Fatal(217)' 'Fatal(169)'\n",
      " 'Fatal(88)' 'Fatal(19)' 'Fatal(60)' 'Fatal(113)' 'Fatal(143)' 'Fatal(83)'\n",
      " 'Fatal(24)' 'Fatal(44)' 'Fatal(64)' 'Fatal(92)' 'Fatal(118)' 'Fatal(265)'\n",
      " 'Fatal(26)' 'Fatal(138)' 'Fatal(206)' 'Fatal(71)' 'Fatal(21)' 'Fatal(46)'\n",
      " 'Fatal(102)' 'Fatal(115)' 'Fatal(141)' 'Fatal(55)' 'Fatal(121)'\n",
      " 'Fatal(45)' 'Fatal(145)' 'Fatal(117)' 'Fatal(107)' 'Fatal(124)'\n",
      " 'Fatal(49)' 'Fatal(154)' 'Fatal(96)' 'Fatal(114)' 'Fatal(199)'\n",
      " 'Fatal(89)' 'Fatal(57)' 'Fatal' nan 'Minor' 'Serious'] \n",
      "\n",
      "[  2.   4.   3.   1.  nan   0.   8.  78.   7.   6.   5. 153.  12.  14.\n",
      "  23.  10.  11.   9.  17.  13.  29.  70. 135.  31. 256.  25.  82. 156.\n",
      "  28.  18.  43.  15. 270. 144. 174. 111. 131.  20.  73.  27.  34.  87.\n",
      "  30.  16.  47.  56.  37. 132.  68.  54.  52.  65.  72. 160. 189. 123.\n",
      "  33. 110. 230.  97. 349. 125.  35. 228.  75. 104. 229.  80. 217. 169.\n",
      "  88.  19.  60. 113. 143.  83.  24.  44.  64.  92. 118. 265.  26. 138.\n",
      " 206.  71.  21.  46. 102. 115. 141.  55. 121.  45. 145. 117. 107. 124.\n",
      "  49. 154.  96. 114. 199.  89.  57. 152.  90. 103. 158. 157.  42.  77.\n",
      " 127.  50. 239. 295.  58. 162. 150. 224.  62.  66. 112. 188.  41. 176.] \n",
      "\n",
      "[  0.  nan   2.   1.   6.   4.   5.  10.   3.   8.   9.   7.  15.  17.\n",
      "  28.  26.  47.  14.  81.  13. 106.  60.  16.  21.  50.  44.  18.  12.\n",
      "  45.  39.  43.  11.  25.  59.  23.  55.  63.  88.  41.  34.  53.  33.\n",
      "  67.  35.  20. 137.  19.  27. 125. 161.  22.] \n",
      "\n",
      "[  0.  nan   1.   3.   2.   4.  24.   6.   5.  25.  17.  19.  33.  14.\n",
      "   8.  13.  15.   7.   9.  16.  20.  11.  12.  10.  38.  42.  29.  62.\n",
      "  28.  31.  39.  32.  18.  27.  57.  50.  23. 125.  45.  26.  36.  69.\n",
      "  21.  96.  30.  22.  58. 171.  65.  71. 200.  68.  47. 380.  35.  43.\n",
      "  84.  40.] \n",
      "\n",
      "[  0.  nan  44.   2.   1.   3.   6.   4. 149.  12. 182. 154.   5.  10.\n",
      "   7. 119.  36.  51.  16.  83.   9.  68.  30.  20.  18.   8. 108.  11.\n",
      " 152.  21.  48.  56. 113. 129. 109.  29.  13.  84.  74. 142. 102. 393.\n",
      " 128. 112.  17.  65.  67. 136.  23. 116.  22.  57.  58.  73. 203.  31.\n",
      " 201. 412. 159.  39. 186. 588.  82.  95. 146. 190. 245. 172.  52.  25.\n",
      "  59. 131. 151. 180. 150.  86.  19. 133. 240.  15. 145. 125. 440.  77.\n",
      " 122. 205. 289. 110.  79.  66.  87.  78.  49. 104. 250.  33. 138. 100.\n",
      "  53. 158. 127. 160. 260.  47.  38. 165. 495.  81.  41.  14.  72.  98.\n",
      " 263. 188. 239.  27. 105. 111. 212. 157.  46. 121.  75.  71.  45.  91.\n",
      "  99.  85.  96.  50.  93. 276. 365. 371. 200. 103. 189.  37. 107.  61.\n",
      "  26. 271. 130.  89. 439. 132. 219.  43. 238. 195. 118. 175.  32. 507.\n",
      " 421.  90. 225. 269. 169. 236. 224. 134. 106. 331. 140.  94. 192. 161.\n",
      " 270.  69. 436. 213. 233. 115.  42. 167. 137. 114. 148. 222.  92. 375.\n",
      "  76. 171. 173. 246. 234. 123. 220. 202. 408. 279. 363. 135. 528. 334.\n",
      " 178. 147. 126.  62.  70.  97. 228. 226.  64. 290. 206. 297. 349. 208.\n",
      " 144.  54.  24. 258. 304. 274. 286.  55. 199. 221.  80. 272. 211. 262.\n",
      " 441. 194. 309. 185. 261. 241. 383. 177. 259. 244. 254. 156.  40.  34.\n",
      " 247. 176.  63.  28. 218. 282. 320. 204. 124. 215. 298. 120. 280. 179.\n",
      " 315. 461. 153.  60. 308.  88. 361. 277. 191. 235. 187. 101. 162.  35.\n",
      " 197. 193. 164. 370. 387. 163. 139. 267. 357. 339. 288. 231. 300. 255.\n",
      " 306. 443. 385. 248. 459. 141. 414. 229. 166. 209. 184. 168. 170. 198.\n",
      " 299. 573. 223. 265. 322. 196. 117. 253. 399. 360. 252. 217. 155. 183.\n",
      " 227. 249. 329. 340. 699. 325. 287. 143. 243. 230. 386. 181. 257. 283.\n",
      " 404. 319. 450. 356. 216. 174. 558. 214. 448. 324. 338. 273. 232. 401.\n",
      " 312. 368. 501. 237. 307. 296. 291. 403. 314. 285. 311. 293. 352. 332.\n",
      " 384. 275. 210. 268. 326. 454. 278. 576. 380. 394. 362. 397. 359. 264.\n",
      " 333. 367. 302. 348. 351. 358. 295. 321. 521. 301. 294. 378. 207. 406.\n",
      " 251. 455.]\n"
     ]
    }
   ],
   "source": [
    "#Understanding differences bewteen injury columns\n",
    "print(df['Injury.Severity'].unique(),'\\n')\n",
    "print(df['Total.Fatal.Injuries'].unique(),'\\n')\n",
    "print(df['Total.Serious.Injuries'].unique(),'\\n')\n",
    "print(df['Total.Minor.Injuries'].unique(),'\\n')\n",
    "print(df['Total.Uninjured'].unique())"
   ]
  },
  {
   "cell_type": "markdown",
   "id": "99a4b5ed",
   "metadata": {},
   "source": [
    "### Data Understanding Summary"
   ]
  },
  {
   "cell_type": "markdown",
   "id": "00157ebd",
   "metadata": {},
   "source": [
    "There are 31 columns and 88889 rows.\n",
    "\n",
    "These are some areas we'll consider cleaning or analyzing:\n",
    "\n",
    "Injury Severity gives us similar information to Total Fatal Injuries, Serious Injuries, Minor Injuries, and Uninjured. We may consider splitting Injury Severity so it just has the word classification and the number of injuries will be kept in the other columns.\n",
    "\n",
    "Unknown: There are values included in some columns like 'Unknown, UNK, and Unavailable that are the same thing as Nan. We will note this for later.\n",
    "\n",
    "Ensure data types are correct for each column.\n",
    "\n",
    "Ensure there are no duplicates and that value formatting is standardized.\n",
    "\n",
    "Drop columns that do not give us relevant information."
   ]
  },
  {
   "cell_type": "markdown",
   "id": "d8e5ccc0",
   "metadata": {},
   "source": [
    "## Data Preparation"
   ]
  },
  {
   "cell_type": "code",
   "execution_count": 73,
   "id": "4cd66602",
   "metadata": {},
   "outputs": [],
   "source": [
    "df_copy = df.copy()"
   ]
  },
  {
   "cell_type": "code",
   "execution_count": 74,
   "id": "04dee706",
   "metadata": {},
   "outputs": [
    {
     "name": "stdout",
     "output_type": "stream",
     "text": [
      "<class 'pandas.core.frame.DataFrame'>\n",
      "RangeIndex: 88889 entries, 0 to 88888\n",
      "Data columns (total 31 columns):\n",
      " #   Column                  Non-Null Count  Dtype         \n",
      "---  ------                  --------------  -----         \n",
      " 0   Event.Id                88889 non-null  object        \n",
      " 1   Investigation.Type      88889 non-null  object        \n",
      " 2   Accident.Number         88889 non-null  object        \n",
      " 3   Event.Date              88889 non-null  datetime64[ns]\n",
      " 4   Location                88837 non-null  object        \n",
      " 5   Country                 88663 non-null  object        \n",
      " 6   Latitude                34382 non-null  object        \n",
      " 7   Longitude               34373 non-null  object        \n",
      " 8   Airport.Code            50132 non-null  object        \n",
      " 9   Airport.Name            52704 non-null  object        \n",
      " 10  Injury.Severity         87889 non-null  object        \n",
      " 11  Aircraft.damage         85695 non-null  object        \n",
      " 12  Aircraft.Category       32287 non-null  object        \n",
      " 13  Registration.Number     87507 non-null  object        \n",
      " 14  Make                    88826 non-null  object        \n",
      " 15  Model                   88797 non-null  object        \n",
      " 16  Amateur.Built           88787 non-null  object        \n",
      " 17  Number.of.Engines       82805 non-null  float64       \n",
      " 18  Engine.Type             81793 non-null  object        \n",
      " 19  FAR.Description         32023 non-null  object        \n",
      " 20  Schedule                12582 non-null  object        \n",
      " 21  Purpose.of.flight       82697 non-null  object        \n",
      " 22  Air.carrier             16648 non-null  object        \n",
      " 23  Total.Fatal.Injuries    77488 non-null  float64       \n",
      " 24  Total.Serious.Injuries  76379 non-null  float64       \n",
      " 25  Total.Minor.Injuries    76956 non-null  float64       \n",
      " 26  Total.Uninjured         82977 non-null  float64       \n",
      " 27  Weather.Condition       84397 non-null  object        \n",
      " 28  Broad.phase.of.flight   61724 non-null  object        \n",
      " 29  Report.Status           82505 non-null  object        \n",
      " 30  Publication.Date        75118 non-null  object        \n",
      "dtypes: datetime64[ns](1), float64(5), object(25)\n",
      "memory usage: 21.0+ MB\n"
     ]
    }
   ],
   "source": [
    "#Change date column to datetime data type\n",
    "df['Event.Date']=pd.to_datetime(df['Event.Date'], format='%Y-%m-%d')\n",
    "df.info()"
   ]
  },
  {
   "cell_type": "code",
   "execution_count": 75,
   "id": "4496b825",
   "metadata": {},
   "outputs": [
    {
     "data": {
      "text/plain": [
       "False"
      ]
     },
     "execution_count": 75,
     "metadata": {},
     "output_type": "execute_result"
    }
   ],
   "source": [
    "#Check for duplicates\n",
    "df.duplicated().any()"
   ]
  },
  {
   "cell_type": "code",
   "execution_count": 76,
   "id": "a5753885",
   "metadata": {},
   "outputs": [
    {
     "data": {
      "text/plain": [
       "Event.Id                  False\n",
       "Investigation.Type        False\n",
       "Accident.Number           False\n",
       "Event.Date                False\n",
       "Location                   True\n",
       "Country                    True\n",
       "Latitude                   True\n",
       "Longitude                  True\n",
       "Airport.Code               True\n",
       "Airport.Name               True\n",
       "Injury.Severity            True\n",
       "Aircraft.damage            True\n",
       "Aircraft.Category          True\n",
       "Registration.Number        True\n",
       "Make                       True\n",
       "Model                      True\n",
       "Amateur.Built              True\n",
       "Number.of.Engines          True\n",
       "Engine.Type                True\n",
       "FAR.Description            True\n",
       "Schedule                   True\n",
       "Purpose.of.flight          True\n",
       "Air.carrier                True\n",
       "Total.Fatal.Injuries       True\n",
       "Total.Serious.Injuries     True\n",
       "Total.Minor.Injuries       True\n",
       "Total.Uninjured            True\n",
       "Weather.Condition          True\n",
       "Broad.phase.of.flight      True\n",
       "Report.Status              True\n",
       "Publication.Date           True\n",
       "dtype: bool"
      ]
     },
     "execution_count": 76,
     "metadata": {},
     "output_type": "execute_result"
    }
   ],
   "source": [
    "#Checking for Missing Data or Nulls\n",
    "df.isna().any()"
   ]
  },
  {
   "cell_type": "code",
   "execution_count": 77,
   "id": "0de0c34d",
   "metadata": {},
   "outputs": [
    {
     "data": {
      "text/plain": [
       "Event.Id                      0\n",
       "Investigation.Type            0\n",
       "Accident.Number               0\n",
       "Event.Date                    0\n",
       "Location                     52\n",
       "Country                     226\n",
       "Latitude                  54507\n",
       "Longitude                 54516\n",
       "Airport.Code              38757\n",
       "Airport.Name              36185\n",
       "Injury.Severity            1000\n",
       "Aircraft.damage            3194\n",
       "Aircraft.Category         56602\n",
       "Registration.Number        1382\n",
       "Make                         63\n",
       "Model                        92\n",
       "Amateur.Built               102\n",
       "Number.of.Engines          6084\n",
       "Engine.Type                7096\n",
       "FAR.Description           56866\n",
       "Schedule                  76307\n",
       "Purpose.of.flight          6192\n",
       "Air.carrier               72241\n",
       "Total.Fatal.Injuries      11401\n",
       "Total.Serious.Injuries    12510\n",
       "Total.Minor.Injuries      11933\n",
       "Total.Uninjured            5912\n",
       "Weather.Condition          4492\n",
       "Broad.phase.of.flight     27165\n",
       "Report.Status              6384\n",
       "Publication.Date          13771\n",
       "dtype: int64"
      ]
     },
     "execution_count": 77,
     "metadata": {},
     "output_type": "execute_result"
    }
   ],
   "source": [
    "#Checking how many nulls in each column\n",
    "df.isna().sum()"
   ]
  },
  {
   "cell_type": "code",
   "execution_count": 78,
   "id": "a02206ca",
   "metadata": {},
   "outputs": [
    {
     "data": {
      "text/plain": [
       "Event.Id                   0.000000\n",
       "Investigation.Type         0.000000\n",
       "Accident.Number            0.000000\n",
       "Event.Date                 0.000000\n",
       "Location                   0.058500\n",
       "Country                    0.254250\n",
       "Latitude                  61.320298\n",
       "Longitude                 61.330423\n",
       "Airport.Code              43.601570\n",
       "Airport.Name              40.708074\n",
       "Injury.Severity            1.124999\n",
       "Aircraft.damage            3.593246\n",
       "Aircraft.Category         63.677170\n",
       "Registration.Number        1.554748\n",
       "Make                       0.070875\n",
       "Model                      0.103500\n",
       "Amateur.Built              0.114750\n",
       "Number.of.Engines          6.844491\n",
       "Engine.Type                7.982990\n",
       "FAR.Description           63.974170\n",
       "Schedule                  85.845268\n",
       "Purpose.of.flight          6.965991\n",
       "Air.carrier               81.271023\n",
       "Total.Fatal.Injuries      12.826109\n",
       "Total.Serious.Injuries    14.073732\n",
       "Total.Minor.Injuries      13.424608\n",
       "Total.Uninjured            6.650992\n",
       "Weather.Condition          5.053494\n",
       "Broad.phase.of.flight     30.560587\n",
       "Report.Status              7.181991\n",
       "Publication.Date          15.492356\n",
       "dtype: float64"
      ]
     },
     "execution_count": 78,
     "metadata": {},
     "output_type": "execute_result"
    }
   ],
   "source": [
    "#Checking what percentage of each column is null\n",
    "df.isnull().sum()/df.shape[0]*100"
   ]
  },
  {
   "cell_type": "markdown",
   "id": "04d535b4",
   "metadata": {},
   "source": [
    "Let's drop all columns with over 30% null or missing data. Here are the columns that have too many nulls values or are irrelevant to the current business question: Latitude, Longitude, Airport Code, Airport Name, Registration Number, FAR Description, Schedule, Air Carrier, and Publication Date."
   ]
  },
  {
   "cell_type": "code",
   "execution_count": 79,
   "id": "5f38667f",
   "metadata": {},
   "outputs": [],
   "source": [
    "#Drop columns with too many missing values or irrevlant to our business question\n",
    "dropped_columns=['Schedule', 'Air.carrier', 'Longitude','Latitude','Registration.Number','Purpose.of.flight','Publication.Date', 'Airport.Code','Airport.Name', 'FAR.Description']\n",
    "df=df.drop(dropped_columns, axis=1)"
   ]
  },
  {
   "cell_type": "code",
   "execution_count": 80,
   "id": "5c178ecc",
   "metadata": {},
   "outputs": [
    {
     "data": {
      "text/plain": [
       "Index(['Event.Id', 'Investigation.Type', 'Accident.Number', 'Event.Date',\n",
       "       'Location', 'Country', 'Injury.Severity', 'Aircraft.damage',\n",
       "       'Aircraft.Category', 'Make', 'Model', 'Amateur.Built',\n",
       "       'Number.of.Engines', 'Engine.Type', 'Total.Fatal.Injuries',\n",
       "       'Total.Serious.Injuries', 'Total.Minor.Injuries', 'Total.Uninjured',\n",
       "       'Weather.Condition', 'Broad.phase.of.flight', 'Report.Status'],\n",
       "      dtype='object')"
      ]
     },
     "execution_count": 80,
     "metadata": {},
     "output_type": "execute_result"
    }
   ],
   "source": [
    "#confirming the columns were dropped\n",
    "df.columns"
   ]
  },
  {
   "cell_type": "code",
   "execution_count": 81,
   "id": "7e94491a",
   "metadata": {},
   "outputs": [
    {
     "name": "stdout",
     "output_type": "stream",
     "text": [
      "Event.Id                   0.000000\n",
      "Investigation.Type         0.000000\n",
      "Accident.Number            0.000000\n",
      "Event.Date                 0.000000\n",
      "Location                   0.054128\n",
      "Country                    0.253727\n",
      "Injury.Severity            1.103994\n",
      "Aircraft.damage            3.556688\n",
      "Aircraft.Category         63.659532\n",
      "Make                       0.000000\n",
      "Model                      0.000000\n",
      "Amateur.Built              0.000000\n",
      "Number.of.Engines          6.702903\n",
      "Engine.Type                7.833961\n",
      "Total.Fatal.Injuries      12.765286\n",
      "Total.Serious.Injuries    13.984303\n",
      "Total.Minor.Injuries      13.330251\n",
      "Total.Uninjured            6.572092\n",
      "Weather.Condition          4.940346\n",
      "Broad.phase.of.flight     30.461896\n",
      "Report.Status              7.147207\n",
      "dtype: float64\n"
     ]
    }
   ],
   "source": [
    "#Drop some rows with missing data\n",
    "df=df.dropna(subset=['Make','Model','Amateur.Built'])\n",
    "print(df.isnull().sum()/df.shape[0]*100)"
   ]
  },
  {
   "cell_type": "code",
   "execution_count": 82,
   "id": "2ffd0ffc",
   "metadata": {},
   "outputs": [
    {
     "data": {
      "text/plain": [
       "Event.Id                   0.000000\n",
       "Investigation.Type         0.000000\n",
       "Accident.Number            0.000000\n",
       "Event.Date                 0.000000\n",
       "Location                   0.054128\n",
       "Country                    0.253727\n",
       "Injury.Severity            1.103994\n",
       "Aircraft.damage            3.556688\n",
       "Aircraft.Category         63.659532\n",
       "Make                       0.000000\n",
       "Model                      0.000000\n",
       "Amateur.Built              0.000000\n",
       "Number.of.Engines          0.000000\n",
       "Engine.Type                7.833961\n",
       "Total.Fatal.Injuries      12.765286\n",
       "Total.Serious.Injuries    13.984303\n",
       "Total.Minor.Injuries      13.330251\n",
       "Total.Uninjured            6.572092\n",
       "Weather.Condition          4.940346\n",
       "Broad.phase.of.flight     30.461896\n",
       "Report.Status              7.147207\n",
       "dtype: float64"
      ]
     },
     "execution_count": 82,
     "metadata": {},
     "output_type": "execute_result"
    }
   ],
   "source": [
    "#impute continuous variables with the median\n",
    "df['Number.of.Engines']=df['Number.of.Engines'].fillna(df['Number.of.Engines'].median())\n",
    "df['Number.of.Engines']=df['Number.of.Engines'].fillna(df['Number.of.Engines'].median())\n",
    "df.isnull().sum()/df.shape[0]*100"
   ]
  },
  {
   "cell_type": "code",
   "execution_count": 83,
   "id": "25ab67eb",
   "metadata": {},
   "outputs": [
    {
     "data": {
      "text/html": [
       "<div>\n",
       "<style scoped>\n",
       "    .dataframe tbody tr th:only-of-type {\n",
       "        vertical-align: middle;\n",
       "    }\n",
       "\n",
       "    .dataframe tbody tr th {\n",
       "        vertical-align: top;\n",
       "    }\n",
       "\n",
       "    .dataframe thead th {\n",
       "        text-align: right;\n",
       "    }\n",
       "</style>\n",
       "<table border=\"1\" class=\"dataframe\">\n",
       "  <thead>\n",
       "    <tr style=\"text-align: right;\">\n",
       "      <th></th>\n",
       "      <th>Event.Id</th>\n",
       "      <th>Investigation.Type</th>\n",
       "      <th>Accident.Number</th>\n",
       "      <th>Event.Date</th>\n",
       "      <th>Location</th>\n",
       "      <th>Country</th>\n",
       "      <th>Injury.Severity</th>\n",
       "      <th>Aircraft.damage</th>\n",
       "      <th>Aircraft.Category</th>\n",
       "      <th>Make</th>\n",
       "      <th>...</th>\n",
       "      <th>Amateur.Built</th>\n",
       "      <th>Number.of.Engines</th>\n",
       "      <th>Engine.Type</th>\n",
       "      <th>Total.Fatal.Injuries</th>\n",
       "      <th>Total.Serious.Injuries</th>\n",
       "      <th>Total.Minor.Injuries</th>\n",
       "      <th>Total.Uninjured</th>\n",
       "      <th>Weather.Condition</th>\n",
       "      <th>Broad.phase.of.flight</th>\n",
       "      <th>Report.Status</th>\n",
       "    </tr>\n",
       "  </thead>\n",
       "  <tbody>\n",
       "    <tr>\n",
       "      <th>0</th>\n",
       "      <td>20001218X45444</td>\n",
       "      <td>Accident</td>\n",
       "      <td>SEA87LA080</td>\n",
       "      <td>1948-10-24</td>\n",
       "      <td>MOOSE CREEK, ID</td>\n",
       "      <td>United States</td>\n",
       "      <td>Fatal</td>\n",
       "      <td>Destroyed</td>\n",
       "      <td>NaN</td>\n",
       "      <td>Stinson</td>\n",
       "      <td>...</td>\n",
       "      <td>No</td>\n",
       "      <td>1.0</td>\n",
       "      <td>Reciprocating</td>\n",
       "      <td>2.0</td>\n",
       "      <td>0.0</td>\n",
       "      <td>0.0</td>\n",
       "      <td>0.0</td>\n",
       "      <td>UNK</td>\n",
       "      <td>Cruise</td>\n",
       "      <td>Probable Cause</td>\n",
       "    </tr>\n",
       "    <tr>\n",
       "      <th>1</th>\n",
       "      <td>20001218X45447</td>\n",
       "      <td>Accident</td>\n",
       "      <td>LAX94LA336</td>\n",
       "      <td>1962-07-19</td>\n",
       "      <td>BRIDGEPORT, CA</td>\n",
       "      <td>United States</td>\n",
       "      <td>Fatal</td>\n",
       "      <td>Destroyed</td>\n",
       "      <td>NaN</td>\n",
       "      <td>Piper</td>\n",
       "      <td>...</td>\n",
       "      <td>No</td>\n",
       "      <td>1.0</td>\n",
       "      <td>Reciprocating</td>\n",
       "      <td>4.0</td>\n",
       "      <td>0.0</td>\n",
       "      <td>0.0</td>\n",
       "      <td>0.0</td>\n",
       "      <td>UNK</td>\n",
       "      <td>Unknown</td>\n",
       "      <td>Probable Cause</td>\n",
       "    </tr>\n",
       "    <tr>\n",
       "      <th>2</th>\n",
       "      <td>20061025X01555</td>\n",
       "      <td>Accident</td>\n",
       "      <td>NYC07LA005</td>\n",
       "      <td>1974-08-30</td>\n",
       "      <td>Saltville, VA</td>\n",
       "      <td>United States</td>\n",
       "      <td>Fatal</td>\n",
       "      <td>Destroyed</td>\n",
       "      <td>NaN</td>\n",
       "      <td>Cessna</td>\n",
       "      <td>...</td>\n",
       "      <td>No</td>\n",
       "      <td>1.0</td>\n",
       "      <td>Reciprocating</td>\n",
       "      <td>3.0</td>\n",
       "      <td>NaN</td>\n",
       "      <td>NaN</td>\n",
       "      <td>NaN</td>\n",
       "      <td>IMC</td>\n",
       "      <td>Cruise</td>\n",
       "      <td>Probable Cause</td>\n",
       "    </tr>\n",
       "    <tr>\n",
       "      <th>3</th>\n",
       "      <td>20001218X45448</td>\n",
       "      <td>Accident</td>\n",
       "      <td>LAX96LA321</td>\n",
       "      <td>1977-06-19</td>\n",
       "      <td>EUREKA, CA</td>\n",
       "      <td>United States</td>\n",
       "      <td>Fatal</td>\n",
       "      <td>Destroyed</td>\n",
       "      <td>NaN</td>\n",
       "      <td>Rockwell</td>\n",
       "      <td>...</td>\n",
       "      <td>No</td>\n",
       "      <td>1.0</td>\n",
       "      <td>Reciprocating</td>\n",
       "      <td>2.0</td>\n",
       "      <td>0.0</td>\n",
       "      <td>0.0</td>\n",
       "      <td>0.0</td>\n",
       "      <td>IMC</td>\n",
       "      <td>Cruise</td>\n",
       "      <td>Probable Cause</td>\n",
       "    </tr>\n",
       "    <tr>\n",
       "      <th>4</th>\n",
       "      <td>20041105X01764</td>\n",
       "      <td>Accident</td>\n",
       "      <td>CHI79FA064</td>\n",
       "      <td>1979-08-02</td>\n",
       "      <td>Canton, OH</td>\n",
       "      <td>United States</td>\n",
       "      <td>Fatal</td>\n",
       "      <td>Destroyed</td>\n",
       "      <td>NaN</td>\n",
       "      <td>Cessna</td>\n",
       "      <td>...</td>\n",
       "      <td>No</td>\n",
       "      <td>1.0</td>\n",
       "      <td>NaN</td>\n",
       "      <td>1.0</td>\n",
       "      <td>2.0</td>\n",
       "      <td>NaN</td>\n",
       "      <td>0.0</td>\n",
       "      <td>VMC</td>\n",
       "      <td>Approach</td>\n",
       "      <td>Probable Cause</td>\n",
       "    </tr>\n",
       "  </tbody>\n",
       "</table>\n",
       "<p>5 rows × 21 columns</p>\n",
       "</div>"
      ],
      "text/plain": [
       "         Event.Id Investigation.Type Accident.Number Event.Date  \\\n",
       "0  20001218X45444           Accident      SEA87LA080 1948-10-24   \n",
       "1  20001218X45447           Accident      LAX94LA336 1962-07-19   \n",
       "2  20061025X01555           Accident      NYC07LA005 1974-08-30   \n",
       "3  20001218X45448           Accident      LAX96LA321 1977-06-19   \n",
       "4  20041105X01764           Accident      CHI79FA064 1979-08-02   \n",
       "\n",
       "          Location        Country Injury.Severity Aircraft.damage  \\\n",
       "0  MOOSE CREEK, ID  United States           Fatal       Destroyed   \n",
       "1   BRIDGEPORT, CA  United States           Fatal       Destroyed   \n",
       "2    Saltville, VA  United States           Fatal       Destroyed   \n",
       "3       EUREKA, CA  United States           Fatal       Destroyed   \n",
       "4       Canton, OH  United States           Fatal       Destroyed   \n",
       "\n",
       "  Aircraft.Category      Make  ... Amateur.Built Number.of.Engines  \\\n",
       "0               NaN   Stinson  ...            No               1.0   \n",
       "1               NaN     Piper  ...            No               1.0   \n",
       "2               NaN    Cessna  ...            No               1.0   \n",
       "3               NaN  Rockwell  ...            No               1.0   \n",
       "4               NaN    Cessna  ...            No               1.0   \n",
       "\n",
       "     Engine.Type Total.Fatal.Injuries  Total.Serious.Injuries  \\\n",
       "0  Reciprocating                  2.0                     0.0   \n",
       "1  Reciprocating                  4.0                     0.0   \n",
       "2  Reciprocating                  3.0                     NaN   \n",
       "3  Reciprocating                  2.0                     0.0   \n",
       "4            NaN                  1.0                     2.0   \n",
       "\n",
       "   Total.Minor.Injuries  Total.Uninjured  Weather.Condition  \\\n",
       "0                   0.0              0.0                UNK   \n",
       "1                   0.0              0.0                UNK   \n",
       "2                   NaN              NaN                IMC   \n",
       "3                   0.0              0.0                IMC   \n",
       "4                   NaN              0.0                VMC   \n",
       "\n",
       "  Broad.phase.of.flight   Report.Status  \n",
       "0                Cruise  Probable Cause  \n",
       "1               Unknown  Probable Cause  \n",
       "2                Cruise  Probable Cause  \n",
       "3                Cruise  Probable Cause  \n",
       "4              Approach  Probable Cause  \n",
       "\n",
       "[5 rows x 21 columns]"
      ]
     },
     "execution_count": 83,
     "metadata": {},
     "output_type": "execute_result"
    }
   ],
   "source": [
    "#Clean Injury Severity Column so it does not include the paranthesis since the exact number of injuries is included in the other columns.\n",
    "df['Injury.Severity']=df['Injury.Severity'].str.split('(').str[0]\n",
    "df.head()"
   ]
  },
  {
   "cell_type": "code",
   "execution_count": 84,
   "id": "059a25c6",
   "metadata": {},
   "outputs": [],
   "source": [
    "#Change Unknown, UNK, and Unavailable to Nan.\n",
    "df.replace(['Unknown','UNK','Unavailable'],np.nan, inplace=True)"
   ]
  },
  {
   "cell_type": "code",
   "execution_count": 85,
   "id": "acd8b494",
   "metadata": {},
   "outputs": [
    {
     "data": {
      "text/plain": [
       "Index(['Event.Id', 'Investigation.Type', 'Accident.Number', 'Event.Date',\n",
       "       'Location', 'Country', 'Injury.Severity', 'Aircraft.damage',\n",
       "       'Aircraft.Category', 'Make', 'Model', 'Amateur.Built',\n",
       "       'Number.of.Engines', 'Engine.Type', 'Total.Fatal.Injuries',\n",
       "       'Total.Serious.Injuries', 'Total.Minor.Injuries', 'Total.Uninjured',\n",
       "       'Weather.Condition', 'Broad.phase.of.flight', 'Report.Status'],\n",
       "      dtype='object')"
      ]
     },
     "execution_count": 85,
     "metadata": {},
     "output_type": "execute_result"
    }
   ],
   "source": [
    "df.columns"
   ]
  },
  {
   "cell_type": "code",
   "execution_count": 86,
   "id": "3cda3d40",
   "metadata": {},
   "outputs": [],
   "source": [
    "#Change column names\n",
    "rename_columns= {'Event.Id':'ID', 'Investigation.Type':'Type', 'Accident.Number':'Accident_Number', 'Event.Date':'Date',\n",
    "    'Injury.Severity':'Injury_Severity', 'Aircraft.Category':'Category','Aircraft.damage':'Damage','Amateur.Built':'Amateur_Built',\n",
    "       'Number.of.Engines':'Engines', 'Engine.Type':'Engine_Type',\n",
    "     'Total.Fatal.Injuries':'Fatal_Injuries', 'Total.Serious.Injuries':'Serious_Injuries',\n",
    "       'Total.Minor.Injuries':'Minor_Injuries', 'Total.Uninjured':'Uninjured', 'Weather.Condition':'Weather',\n",
    "       'Broad.phase.of.flight':'Flight_Phase', 'Report.Status':'Report_Status'}\n",
    "df=df.rename(columns=rename_columns)"
   ]
  },
  {
   "cell_type": "code",
   "execution_count": 87,
   "id": "0ea42756",
   "metadata": {},
   "outputs": [
    {
     "data": {
      "text/plain": [
       "ID                   0.000000\n",
       "Type                 0.000000\n",
       "Accident_Number      0.000000\n",
       "Date                 0.000000\n",
       "Location             0.055256\n",
       "Country              0.257110\n",
       "Injury_Severity      1.199847\n",
       "Damage               3.690882\n",
       "Category            63.677575\n",
       "Make                 0.022554\n",
       "Model                0.003383\n",
       "Amateur_Built        0.000000\n",
       "Engines              0.000000\n",
       "Engine_Type         10.143440\n",
       "Fatal_Injuries      12.765286\n",
       "Serious_Injuries    13.984303\n",
       "Minor_Injuries      13.330251\n",
       "Uninjured            6.572092\n",
       "Weather              5.903381\n",
       "Flight_Phase        31.079862\n",
       "Report_Status        7.147207\n",
       "dtype: float64"
      ]
     },
     "execution_count": 87,
     "metadata": {},
     "output_type": "execute_result"
    }
   ],
   "source": [
    "df.isnull().sum()/df.shape[0]*100"
   ]
  },
  {
   "cell_type": "markdown",
   "id": "c0cfa7d1",
   "metadata": {},
   "source": [
    "Now we'll clean the Country and Location columns. "
   ]
  },
  {
   "cell_type": "code",
   "execution_count": 88,
   "id": "4b31e155",
   "metadata": {},
   "outputs": [
    {
     "data": {
      "text/plain": [
       "Country\n",
       "United States                       0.926690\n",
       "Brazil                              0.004161\n",
       "Mexico                              0.004026\n",
       "Canada                              0.003992\n",
       "United Kingdom                      0.003778\n",
       "                                      ...   \n",
       "Palau                               0.000011\n",
       "Bosnia and Herzegovina              0.000011\n",
       "Libya                               0.000011\n",
       "Saint Vincent and the Grenadines    0.000011\n",
       "Turks and Caicos Islands            0.000011\n",
       "Name: count, Length: 217, dtype: float64"
      ]
     },
     "execution_count": 88,
     "metadata": {},
     "output_type": "execute_result"
    }
   ],
   "source": [
    "#Checking what percentage of values are in each country\n",
    "df['Country'].value_counts()/(len(df['Country']))"
   ]
  },
  {
   "cell_type": "markdown",
   "id": "ca958c42",
   "metadata": {},
   "source": [
    "Almost 93% of these reported accidents occurred in the United States so we will focus our analysis on accidents in the USA. We will drop rows with accidents outside the USA mainland.   "
   ]
  },
  {
   "cell_type": "code",
   "execution_count": 89,
   "id": "8561920c",
   "metadata": {},
   "outputs": [],
   "source": [
    "df.drop(df[df.Country != 'United States'].index, inplace=True)"
   ]
  },
  {
   "cell_type": "code",
   "execution_count": 90,
   "id": "98c5e288",
   "metadata": {},
   "outputs": [
    {
     "data": {
      "text/plain": [
       "Country\n",
       "United States    82177\n",
       "Name: count, dtype: int64"
      ]
     },
     "execution_count": 90,
     "metadata": {},
     "output_type": "execute_result"
    }
   ],
   "source": [
    "df['Country'].value_counts()"
   ]
  },
  {
   "cell_type": "code",
   "execution_count": 91,
   "id": "247035ed",
   "metadata": {},
   "outputs": [],
   "source": [
    "#Split location into into city and state\n",
    "df['City']=df['Location'].str.split(',').str[0]\n",
    "df['State']=df['Location'].str.split(',').str[-1]"
   ]
  },
  {
   "cell_type": "code",
   "execution_count": 92,
   "id": "3ba74f79",
   "metadata": {
    "scrolled": true
   },
   "outputs": [
    {
     "data": {
      "text/html": [
       "<div>\n",
       "<style scoped>\n",
       "    .dataframe tbody tr th:only-of-type {\n",
       "        vertical-align: middle;\n",
       "    }\n",
       "\n",
       "    .dataframe tbody tr th {\n",
       "        vertical-align: top;\n",
       "    }\n",
       "\n",
       "    .dataframe thead th {\n",
       "        text-align: right;\n",
       "    }\n",
       "</style>\n",
       "<table border=\"1\" class=\"dataframe\">\n",
       "  <thead>\n",
       "    <tr style=\"text-align: right;\">\n",
       "      <th></th>\n",
       "      <th>ID</th>\n",
       "      <th>Type</th>\n",
       "      <th>Accident_Number</th>\n",
       "      <th>Date</th>\n",
       "      <th>Country</th>\n",
       "      <th>Injury_Severity</th>\n",
       "      <th>Damage</th>\n",
       "      <th>Category</th>\n",
       "      <th>Make</th>\n",
       "      <th>Model</th>\n",
       "      <th>...</th>\n",
       "      <th>Engine_Type</th>\n",
       "      <th>Fatal_Injuries</th>\n",
       "      <th>Serious_Injuries</th>\n",
       "      <th>Minor_Injuries</th>\n",
       "      <th>Uninjured</th>\n",
       "      <th>Weather</th>\n",
       "      <th>Flight_Phase</th>\n",
       "      <th>Report_Status</th>\n",
       "      <th>City</th>\n",
       "      <th>State</th>\n",
       "    </tr>\n",
       "  </thead>\n",
       "  <tbody>\n",
       "    <tr>\n",
       "      <th>0</th>\n",
       "      <td>20001218X45444</td>\n",
       "      <td>Accident</td>\n",
       "      <td>SEA87LA080</td>\n",
       "      <td>1948-10-24</td>\n",
       "      <td>United States</td>\n",
       "      <td>Fatal</td>\n",
       "      <td>Destroyed</td>\n",
       "      <td>NaN</td>\n",
       "      <td>Stinson</td>\n",
       "      <td>108-3</td>\n",
       "      <td>...</td>\n",
       "      <td>Reciprocating</td>\n",
       "      <td>2.0</td>\n",
       "      <td>0.0</td>\n",
       "      <td>0.0</td>\n",
       "      <td>0.0</td>\n",
       "      <td>NaN</td>\n",
       "      <td>Cruise</td>\n",
       "      <td>Probable Cause</td>\n",
       "      <td>MOOSE CREEK</td>\n",
       "      <td>ID</td>\n",
       "    </tr>\n",
       "    <tr>\n",
       "      <th>1</th>\n",
       "      <td>20001218X45447</td>\n",
       "      <td>Accident</td>\n",
       "      <td>LAX94LA336</td>\n",
       "      <td>1962-07-19</td>\n",
       "      <td>United States</td>\n",
       "      <td>Fatal</td>\n",
       "      <td>Destroyed</td>\n",
       "      <td>NaN</td>\n",
       "      <td>Piper</td>\n",
       "      <td>PA24-180</td>\n",
       "      <td>...</td>\n",
       "      <td>Reciprocating</td>\n",
       "      <td>4.0</td>\n",
       "      <td>0.0</td>\n",
       "      <td>0.0</td>\n",
       "      <td>0.0</td>\n",
       "      <td>NaN</td>\n",
       "      <td>NaN</td>\n",
       "      <td>Probable Cause</td>\n",
       "      <td>BRIDGEPORT</td>\n",
       "      <td>CA</td>\n",
       "    </tr>\n",
       "    <tr>\n",
       "      <th>2</th>\n",
       "      <td>20061025X01555</td>\n",
       "      <td>Accident</td>\n",
       "      <td>NYC07LA005</td>\n",
       "      <td>1974-08-30</td>\n",
       "      <td>United States</td>\n",
       "      <td>Fatal</td>\n",
       "      <td>Destroyed</td>\n",
       "      <td>NaN</td>\n",
       "      <td>Cessna</td>\n",
       "      <td>172M</td>\n",
       "      <td>...</td>\n",
       "      <td>Reciprocating</td>\n",
       "      <td>3.0</td>\n",
       "      <td>NaN</td>\n",
       "      <td>NaN</td>\n",
       "      <td>NaN</td>\n",
       "      <td>IMC</td>\n",
       "      <td>Cruise</td>\n",
       "      <td>Probable Cause</td>\n",
       "      <td>Saltville</td>\n",
       "      <td>VA</td>\n",
       "    </tr>\n",
       "    <tr>\n",
       "      <th>3</th>\n",
       "      <td>20001218X45448</td>\n",
       "      <td>Accident</td>\n",
       "      <td>LAX96LA321</td>\n",
       "      <td>1977-06-19</td>\n",
       "      <td>United States</td>\n",
       "      <td>Fatal</td>\n",
       "      <td>Destroyed</td>\n",
       "      <td>NaN</td>\n",
       "      <td>Rockwell</td>\n",
       "      <td>112</td>\n",
       "      <td>...</td>\n",
       "      <td>Reciprocating</td>\n",
       "      <td>2.0</td>\n",
       "      <td>0.0</td>\n",
       "      <td>0.0</td>\n",
       "      <td>0.0</td>\n",
       "      <td>IMC</td>\n",
       "      <td>Cruise</td>\n",
       "      <td>Probable Cause</td>\n",
       "      <td>EUREKA</td>\n",
       "      <td>CA</td>\n",
       "    </tr>\n",
       "    <tr>\n",
       "      <th>4</th>\n",
       "      <td>20041105X01764</td>\n",
       "      <td>Accident</td>\n",
       "      <td>CHI79FA064</td>\n",
       "      <td>1979-08-02</td>\n",
       "      <td>United States</td>\n",
       "      <td>Fatal</td>\n",
       "      <td>Destroyed</td>\n",
       "      <td>NaN</td>\n",
       "      <td>Cessna</td>\n",
       "      <td>501</td>\n",
       "      <td>...</td>\n",
       "      <td>NaN</td>\n",
       "      <td>1.0</td>\n",
       "      <td>2.0</td>\n",
       "      <td>NaN</td>\n",
       "      <td>0.0</td>\n",
       "      <td>VMC</td>\n",
       "      <td>Approach</td>\n",
       "      <td>Probable Cause</td>\n",
       "      <td>Canton</td>\n",
       "      <td>OH</td>\n",
       "    </tr>\n",
       "  </tbody>\n",
       "</table>\n",
       "<p>5 rows × 22 columns</p>\n",
       "</div>"
      ],
      "text/plain": [
       "               ID      Type Accident_Number       Date        Country  \\\n",
       "0  20001218X45444  Accident      SEA87LA080 1948-10-24  United States   \n",
       "1  20001218X45447  Accident      LAX94LA336 1962-07-19  United States   \n",
       "2  20061025X01555  Accident      NYC07LA005 1974-08-30  United States   \n",
       "3  20001218X45448  Accident      LAX96LA321 1977-06-19  United States   \n",
       "4  20041105X01764  Accident      CHI79FA064 1979-08-02  United States   \n",
       "\n",
       "  Injury_Severity     Damage Category      Make     Model  ...    Engine_Type  \\\n",
       "0           Fatal  Destroyed      NaN   Stinson     108-3  ...  Reciprocating   \n",
       "1           Fatal  Destroyed      NaN     Piper  PA24-180  ...  Reciprocating   \n",
       "2           Fatal  Destroyed      NaN    Cessna      172M  ...  Reciprocating   \n",
       "3           Fatal  Destroyed      NaN  Rockwell       112  ...  Reciprocating   \n",
       "4           Fatal  Destroyed      NaN    Cessna       501  ...            NaN   \n",
       "\n",
       "   Fatal_Injuries Serious_Injuries  Minor_Injuries  Uninjured  Weather  \\\n",
       "0             2.0              0.0             0.0        0.0      NaN   \n",
       "1             4.0              0.0             0.0        0.0      NaN   \n",
       "2             3.0              NaN             NaN        NaN      IMC   \n",
       "3             2.0              0.0             0.0        0.0      IMC   \n",
       "4             1.0              2.0             NaN        0.0      VMC   \n",
       "\n",
       "   Flight_Phase   Report_Status         City State  \n",
       "0        Cruise  Probable Cause  MOOSE CREEK    ID  \n",
       "1           NaN  Probable Cause   BRIDGEPORT    CA  \n",
       "2        Cruise  Probable Cause    Saltville    VA  \n",
       "3        Cruise  Probable Cause       EUREKA    CA  \n",
       "4      Approach  Probable Cause       Canton    OH  \n",
       "\n",
       "[5 rows x 22 columns]"
      ]
     },
     "execution_count": 92,
     "metadata": {},
     "output_type": "execute_result"
    }
   ],
   "source": [
    "#Drop Location column\n",
    "df=df.drop('Location',axis=1)\n",
    "df.head()"
   ]
  },
  {
   "cell_type": "code",
   "execution_count": 93,
   "id": "d04af6af",
   "metadata": {},
   "outputs": [
    {
     "data": {
      "text/html": [
       "<div>\n",
       "<style scoped>\n",
       "    .dataframe tbody tr th:only-of-type {\n",
       "        vertical-align: middle;\n",
       "    }\n",
       "\n",
       "    .dataframe tbody tr th {\n",
       "        vertical-align: top;\n",
       "    }\n",
       "\n",
       "    .dataframe thead th {\n",
       "        text-align: right;\n",
       "    }\n",
       "</style>\n",
       "<table border=\"1\" class=\"dataframe\">\n",
       "  <thead>\n",
       "    <tr style=\"text-align: right;\">\n",
       "      <th></th>\n",
       "      <th>ID</th>\n",
       "      <th>Type</th>\n",
       "      <th>Accident_Number</th>\n",
       "      <th>Date</th>\n",
       "      <th>Country</th>\n",
       "      <th>Injury_Severity</th>\n",
       "      <th>Damage</th>\n",
       "      <th>Category</th>\n",
       "      <th>Make</th>\n",
       "      <th>Model</th>\n",
       "      <th>...</th>\n",
       "      <th>Engine_Type</th>\n",
       "      <th>Fatal_Injuries</th>\n",
       "      <th>Serious_Injuries</th>\n",
       "      <th>Minor_Injuries</th>\n",
       "      <th>Uninjured</th>\n",
       "      <th>Weather</th>\n",
       "      <th>Flight_Phase</th>\n",
       "      <th>Report_Status</th>\n",
       "      <th>City</th>\n",
       "      <th>State</th>\n",
       "    </tr>\n",
       "  </thead>\n",
       "  <tbody>\n",
       "    <tr>\n",
       "      <th>0</th>\n",
       "      <td>20001218X45444</td>\n",
       "      <td>Accident</td>\n",
       "      <td>SEA87LA080</td>\n",
       "      <td>1948-10-24</td>\n",
       "      <td>United States</td>\n",
       "      <td>Fatal</td>\n",
       "      <td>Destroyed</td>\n",
       "      <td>NaN</td>\n",
       "      <td>Stinson</td>\n",
       "      <td>108-3</td>\n",
       "      <td>...</td>\n",
       "      <td>Reciprocating</td>\n",
       "      <td>2.0</td>\n",
       "      <td>0.0</td>\n",
       "      <td>0.0</td>\n",
       "      <td>0.0</td>\n",
       "      <td>NaN</td>\n",
       "      <td>Cruise</td>\n",
       "      <td>Probable Cause</td>\n",
       "      <td>Moose Creek</td>\n",
       "      <td>ID</td>\n",
       "    </tr>\n",
       "    <tr>\n",
       "      <th>1</th>\n",
       "      <td>20001218X45447</td>\n",
       "      <td>Accident</td>\n",
       "      <td>LAX94LA336</td>\n",
       "      <td>1962-07-19</td>\n",
       "      <td>United States</td>\n",
       "      <td>Fatal</td>\n",
       "      <td>Destroyed</td>\n",
       "      <td>NaN</td>\n",
       "      <td>Piper</td>\n",
       "      <td>PA24-180</td>\n",
       "      <td>...</td>\n",
       "      <td>Reciprocating</td>\n",
       "      <td>4.0</td>\n",
       "      <td>0.0</td>\n",
       "      <td>0.0</td>\n",
       "      <td>0.0</td>\n",
       "      <td>NaN</td>\n",
       "      <td>NaN</td>\n",
       "      <td>Probable Cause</td>\n",
       "      <td>Bridgeport</td>\n",
       "      <td>CA</td>\n",
       "    </tr>\n",
       "    <tr>\n",
       "      <th>2</th>\n",
       "      <td>20061025X01555</td>\n",
       "      <td>Accident</td>\n",
       "      <td>NYC07LA005</td>\n",
       "      <td>1974-08-30</td>\n",
       "      <td>United States</td>\n",
       "      <td>Fatal</td>\n",
       "      <td>Destroyed</td>\n",
       "      <td>NaN</td>\n",
       "      <td>Cessna</td>\n",
       "      <td>172M</td>\n",
       "      <td>...</td>\n",
       "      <td>Reciprocating</td>\n",
       "      <td>3.0</td>\n",
       "      <td>NaN</td>\n",
       "      <td>NaN</td>\n",
       "      <td>NaN</td>\n",
       "      <td>IMC</td>\n",
       "      <td>Cruise</td>\n",
       "      <td>Probable Cause</td>\n",
       "      <td>Saltville</td>\n",
       "      <td>VA</td>\n",
       "    </tr>\n",
       "    <tr>\n",
       "      <th>3</th>\n",
       "      <td>20001218X45448</td>\n",
       "      <td>Accident</td>\n",
       "      <td>LAX96LA321</td>\n",
       "      <td>1977-06-19</td>\n",
       "      <td>United States</td>\n",
       "      <td>Fatal</td>\n",
       "      <td>Destroyed</td>\n",
       "      <td>NaN</td>\n",
       "      <td>Rockwell</td>\n",
       "      <td>112</td>\n",
       "      <td>...</td>\n",
       "      <td>Reciprocating</td>\n",
       "      <td>2.0</td>\n",
       "      <td>0.0</td>\n",
       "      <td>0.0</td>\n",
       "      <td>0.0</td>\n",
       "      <td>IMC</td>\n",
       "      <td>Cruise</td>\n",
       "      <td>Probable Cause</td>\n",
       "      <td>Eureka</td>\n",
       "      <td>CA</td>\n",
       "    </tr>\n",
       "    <tr>\n",
       "      <th>4</th>\n",
       "      <td>20041105X01764</td>\n",
       "      <td>Accident</td>\n",
       "      <td>CHI79FA064</td>\n",
       "      <td>1979-08-02</td>\n",
       "      <td>United States</td>\n",
       "      <td>Fatal</td>\n",
       "      <td>Destroyed</td>\n",
       "      <td>NaN</td>\n",
       "      <td>Cessna</td>\n",
       "      <td>501</td>\n",
       "      <td>...</td>\n",
       "      <td>NaN</td>\n",
       "      <td>1.0</td>\n",
       "      <td>2.0</td>\n",
       "      <td>NaN</td>\n",
       "      <td>0.0</td>\n",
       "      <td>VMC</td>\n",
       "      <td>Approach</td>\n",
       "      <td>Probable Cause</td>\n",
       "      <td>Canton</td>\n",
       "      <td>OH</td>\n",
       "    </tr>\n",
       "  </tbody>\n",
       "</table>\n",
       "<p>5 rows × 22 columns</p>\n",
       "</div>"
      ],
      "text/plain": [
       "               ID      Type Accident_Number       Date        Country  \\\n",
       "0  20001218X45444  Accident      SEA87LA080 1948-10-24  United States   \n",
       "1  20001218X45447  Accident      LAX94LA336 1962-07-19  United States   \n",
       "2  20061025X01555  Accident      NYC07LA005 1974-08-30  United States   \n",
       "3  20001218X45448  Accident      LAX96LA321 1977-06-19  United States   \n",
       "4  20041105X01764  Accident      CHI79FA064 1979-08-02  United States   \n",
       "\n",
       "  Injury_Severity     Damage Category      Make     Model  ...    Engine_Type  \\\n",
       "0           Fatal  Destroyed      NaN   Stinson     108-3  ...  Reciprocating   \n",
       "1           Fatal  Destroyed      NaN     Piper  PA24-180  ...  Reciprocating   \n",
       "2           Fatal  Destroyed      NaN    Cessna      172M  ...  Reciprocating   \n",
       "3           Fatal  Destroyed      NaN  Rockwell       112  ...  Reciprocating   \n",
       "4           Fatal  Destroyed      NaN    Cessna       501  ...            NaN   \n",
       "\n",
       "   Fatal_Injuries Serious_Injuries  Minor_Injuries  Uninjured  Weather  \\\n",
       "0             2.0              0.0             0.0        0.0      NaN   \n",
       "1             4.0              0.0             0.0        0.0      NaN   \n",
       "2             3.0              NaN             NaN        NaN      IMC   \n",
       "3             2.0              0.0             0.0        0.0      IMC   \n",
       "4             1.0              2.0             NaN        0.0      VMC   \n",
       "\n",
       "   Flight_Phase   Report_Status         City State  \n",
       "0        Cruise  Probable Cause  Moose Creek    ID  \n",
       "1           NaN  Probable Cause   Bridgeport    CA  \n",
       "2        Cruise  Probable Cause    Saltville    VA  \n",
       "3        Cruise  Probable Cause       Eureka    CA  \n",
       "4      Approach  Probable Cause       Canton    OH  \n",
       "\n",
       "[5 rows x 22 columns]"
      ]
     },
     "execution_count": 93,
     "metadata": {},
     "output_type": "execute_result"
    }
   ],
   "source": [
    "#Standardize data from all caps\n",
    "df['Make']=df['Make'].str.title()\n",
    "df['City']=df['City'].str.title()\n",
    "df.head()"
   ]
  },
  {
   "cell_type": "code",
   "execution_count": 94,
   "id": "afed8ca3",
   "metadata": {},
   "outputs": [
    {
     "name": "stdout",
     "output_type": "stream",
     "text": [
      "<class 'pandas.core.frame.DataFrame'>\n",
      "Index: 82177 entries, 0 to 88888\n",
      "Data columns (total 22 columns):\n",
      " #   Column            Non-Null Count  Dtype         \n",
      "---  ------            --------------  -----         \n",
      " 0   ID                82177 non-null  object        \n",
      " 1   Type              82177 non-null  object        \n",
      " 2   Accident_Number   82177 non-null  object        \n",
      " 3   Date              82177 non-null  datetime64[ns]\n",
      " 4   Country           82177 non-null  object        \n",
      " 5   Injury_Severity   82060 non-null  object        \n",
      " 6   Damage            80159 non-null  object        \n",
      " 7   Category          28118 non-null  object        \n",
      " 8   Make              82157 non-null  object        \n",
      " 9   Model             82174 non-null  object        \n",
      " 10  Amateur_Built     82177 non-null  object        \n",
      " 11  Engines           82177 non-null  float64       \n",
      " 12  Engine_Type       77767 non-null  object        \n",
      " 13  Fatal_Injuries    82177 non-null  float64       \n",
      " 14  Serious_Injuries  82177 non-null  float64       \n",
      " 15  Minor_Injuries    82177 non-null  float64       \n",
      " 16  Uninjured         82177 non-null  float64       \n",
      " 17  Weather           80992 non-null  object        \n",
      " 18  Flight_Phase      60594 non-null  object        \n",
      " 19  Report_Status     79567 non-null  object        \n",
      " 20  City              82167 non-null  object        \n",
      " 21  State             82167 non-null  object        \n",
      "dtypes: datetime64[ns](1), float64(5), object(16)\n",
      "memory usage: 14.4+ MB\n"
     ]
    }
   ],
   "source": [
    "#Replace continuous variables with the median\n",
    "continuous_variables=['Engines','Fatal_Injuries','Serious_Injuries','Minor_Injuries','Uninjured']\n",
    "df[continuous_variables]=df[continuous_variables].fillna(df[continuous_variables].median())\n",
    "df.info()"
   ]
  },
  {
   "cell_type": "code",
   "execution_count": 95,
   "id": "5c225d7f",
   "metadata": {},
   "outputs": [
    {
     "data": {
      "text/plain": [
       "Make\n",
       "True     74785\n",
       "False     7392\n",
       "Name: count, dtype: int64"
      ]
     },
     "execution_count": 95,
     "metadata": {},
     "output_type": "execute_result"
    }
   ],
   "source": [
    "# Clean 'Make' Column. Remove spaces.\n",
    "df['Make'].str.strip()\n",
    "df['Make'].duplicated().value_counts()"
   ]
  },
  {
   "cell_type": "markdown",
   "id": "1ea8bdf0",
   "metadata": {},
   "source": [
    "Why are some values showing up multiple times? For example Piper and Cessena."
   ]
  },
  {
   "cell_type": "code",
   "execution_count": 96,
   "id": "2a1f503e",
   "metadata": {},
   "outputs": [
    {
     "data": {
      "text/plain": [
       "Model\n",
       "152                2323\n",
       "172                1637\n",
       "172N               1136\n",
       "PA-28-140           909\n",
       "150                 790\n",
       "                   ... \n",
       "THORP T18CWS          1\n",
       "AVRO 146-RJ70A        1\n",
       "ULTRA SPORT 254       1\n",
       "A-300B4-605R          1\n",
       "PA42                  1\n",
       "Name: count, Length: 11432, dtype: int64"
      ]
     },
     "execution_count": 96,
     "metadata": {},
     "output_type": "execute_result"
    }
   ],
   "source": [
    "#seperate models from aircraft type\n",
    "df['Model'].value_counts()"
   ]
  },
  {
   "cell_type": "code",
   "execution_count": 97,
   "id": "bc0ee5f0",
   "metadata": {},
   "outputs": [
    {
     "data": {
      "text/plain": [
       "Make\n",
       "Cessna           25846\n",
       "Piper            14164\n",
       "Beech             5058\n",
       "Bell              2285\n",
       "Boeing            1483\n",
       "                 ...  \n",
       "Spagnoletti          1\n",
       "Reichert             1\n",
       "Wild Goose           1\n",
       "Valenza              1\n",
       "Royse Ralph L        1\n",
       "Name: count, Length: 7391, dtype: int64"
      ]
     },
     "execution_count": 97,
     "metadata": {},
     "output_type": "execute_result"
    }
   ],
   "source": [
    "df.Make.value_counts()"
   ]
  },
  {
   "cell_type": "code",
   "execution_count": 98,
   "id": "a0c8233c",
   "metadata": {
    "scrolled": true
   },
   "outputs": [
    {
     "data": {
      "text/html": [
       "<div>\n",
       "<style scoped>\n",
       "    .dataframe tbody tr th:only-of-type {\n",
       "        vertical-align: middle;\n",
       "    }\n",
       "\n",
       "    .dataframe tbody tr th {\n",
       "        vertical-align: top;\n",
       "    }\n",
       "\n",
       "    .dataframe thead th {\n",
       "        text-align: right;\n",
       "    }\n",
       "</style>\n",
       "<table border=\"1\" class=\"dataframe\">\n",
       "  <thead>\n",
       "    <tr style=\"text-align: right;\">\n",
       "      <th></th>\n",
       "      <th>ID</th>\n",
       "      <th>Type</th>\n",
       "      <th>Accident_Number</th>\n",
       "      <th>Date</th>\n",
       "      <th>Country</th>\n",
       "      <th>Injury_Severity</th>\n",
       "      <th>Damage</th>\n",
       "      <th>Category</th>\n",
       "      <th>Make</th>\n",
       "      <th>Model</th>\n",
       "      <th>...</th>\n",
       "      <th>Engine_Type</th>\n",
       "      <th>Fatal_Injuries</th>\n",
       "      <th>Serious_Injuries</th>\n",
       "      <th>Minor_Injuries</th>\n",
       "      <th>Uninjured</th>\n",
       "      <th>Weather</th>\n",
       "      <th>Flight_Phase</th>\n",
       "      <th>Report_Status</th>\n",
       "      <th>City</th>\n",
       "      <th>State</th>\n",
       "    </tr>\n",
       "  </thead>\n",
       "  <tbody>\n",
       "    <tr>\n",
       "      <th>0</th>\n",
       "      <td>20001218X45444</td>\n",
       "      <td>Accident</td>\n",
       "      <td>SEA87LA080</td>\n",
       "      <td>1948-10-24</td>\n",
       "      <td>United States</td>\n",
       "      <td>Fatal</td>\n",
       "      <td>Destroyed</td>\n",
       "      <td>NaN</td>\n",
       "      <td>Stinson</td>\n",
       "      <td>108-3</td>\n",
       "      <td>...</td>\n",
       "      <td>Reciprocating</td>\n",
       "      <td>2.0</td>\n",
       "      <td>0.0</td>\n",
       "      <td>0.0</td>\n",
       "      <td>0.0</td>\n",
       "      <td>NaN</td>\n",
       "      <td>Cruise</td>\n",
       "      <td>Probable Cause</td>\n",
       "      <td>Moose Creek</td>\n",
       "      <td>ID</td>\n",
       "    </tr>\n",
       "    <tr>\n",
       "      <th>1</th>\n",
       "      <td>20001218X45447</td>\n",
       "      <td>Accident</td>\n",
       "      <td>LAX94LA336</td>\n",
       "      <td>1962-07-19</td>\n",
       "      <td>United States</td>\n",
       "      <td>Fatal</td>\n",
       "      <td>Destroyed</td>\n",
       "      <td>NaN</td>\n",
       "      <td>Piper</td>\n",
       "      <td>PA24-180</td>\n",
       "      <td>...</td>\n",
       "      <td>Reciprocating</td>\n",
       "      <td>4.0</td>\n",
       "      <td>0.0</td>\n",
       "      <td>0.0</td>\n",
       "      <td>0.0</td>\n",
       "      <td>NaN</td>\n",
       "      <td>NaN</td>\n",
       "      <td>Probable Cause</td>\n",
       "      <td>Bridgeport</td>\n",
       "      <td>CA</td>\n",
       "    </tr>\n",
       "    <tr>\n",
       "      <th>2</th>\n",
       "      <td>20061025X01555</td>\n",
       "      <td>Accident</td>\n",
       "      <td>NYC07LA005</td>\n",
       "      <td>1974-08-30</td>\n",
       "      <td>United States</td>\n",
       "      <td>Fatal</td>\n",
       "      <td>Destroyed</td>\n",
       "      <td>NaN</td>\n",
       "      <td>Cessna</td>\n",
       "      <td>172M</td>\n",
       "      <td>...</td>\n",
       "      <td>Reciprocating</td>\n",
       "      <td>3.0</td>\n",
       "      <td>0.0</td>\n",
       "      <td>0.0</td>\n",
       "      <td>1.0</td>\n",
       "      <td>IMC</td>\n",
       "      <td>Cruise</td>\n",
       "      <td>Probable Cause</td>\n",
       "      <td>Saltville</td>\n",
       "      <td>VA</td>\n",
       "    </tr>\n",
       "    <tr>\n",
       "      <th>3</th>\n",
       "      <td>20001218X45448</td>\n",
       "      <td>Accident</td>\n",
       "      <td>LAX96LA321</td>\n",
       "      <td>1977-06-19</td>\n",
       "      <td>United States</td>\n",
       "      <td>Fatal</td>\n",
       "      <td>Destroyed</td>\n",
       "      <td>NaN</td>\n",
       "      <td>Rockwell</td>\n",
       "      <td>112</td>\n",
       "      <td>...</td>\n",
       "      <td>Reciprocating</td>\n",
       "      <td>2.0</td>\n",
       "      <td>0.0</td>\n",
       "      <td>0.0</td>\n",
       "      <td>0.0</td>\n",
       "      <td>IMC</td>\n",
       "      <td>Cruise</td>\n",
       "      <td>Probable Cause</td>\n",
       "      <td>Eureka</td>\n",
       "      <td>CA</td>\n",
       "    </tr>\n",
       "    <tr>\n",
       "      <th>4</th>\n",
       "      <td>20041105X01764</td>\n",
       "      <td>Accident</td>\n",
       "      <td>CHI79FA064</td>\n",
       "      <td>1979-08-02</td>\n",
       "      <td>United States</td>\n",
       "      <td>Fatal</td>\n",
       "      <td>Destroyed</td>\n",
       "      <td>NaN</td>\n",
       "      <td>Cessna</td>\n",
       "      <td>501</td>\n",
       "      <td>...</td>\n",
       "      <td>NaN</td>\n",
       "      <td>1.0</td>\n",
       "      <td>2.0</td>\n",
       "      <td>0.0</td>\n",
       "      <td>0.0</td>\n",
       "      <td>VMC</td>\n",
       "      <td>Approach</td>\n",
       "      <td>Probable Cause</td>\n",
       "      <td>Canton</td>\n",
       "      <td>OH</td>\n",
       "    </tr>\n",
       "  </tbody>\n",
       "</table>\n",
       "<p>5 rows × 22 columns</p>\n",
       "</div>"
      ],
      "text/plain": [
       "               ID      Type Accident_Number       Date        Country  \\\n",
       "0  20001218X45444  Accident      SEA87LA080 1948-10-24  United States   \n",
       "1  20001218X45447  Accident      LAX94LA336 1962-07-19  United States   \n",
       "2  20061025X01555  Accident      NYC07LA005 1974-08-30  United States   \n",
       "3  20001218X45448  Accident      LAX96LA321 1977-06-19  United States   \n",
       "4  20041105X01764  Accident      CHI79FA064 1979-08-02  United States   \n",
       "\n",
       "  Injury_Severity     Damage Category      Make     Model  ...    Engine_Type  \\\n",
       "0           Fatal  Destroyed      NaN   Stinson     108-3  ...  Reciprocating   \n",
       "1           Fatal  Destroyed      NaN     Piper  PA24-180  ...  Reciprocating   \n",
       "2           Fatal  Destroyed      NaN    Cessna      172M  ...  Reciprocating   \n",
       "3           Fatal  Destroyed      NaN  Rockwell       112  ...  Reciprocating   \n",
       "4           Fatal  Destroyed      NaN    Cessna       501  ...            NaN   \n",
       "\n",
       "   Fatal_Injuries Serious_Injuries  Minor_Injuries  Uninjured  Weather  \\\n",
       "0             2.0              0.0             0.0        0.0      NaN   \n",
       "1             4.0              0.0             0.0        0.0      NaN   \n",
       "2             3.0              0.0             0.0        1.0      IMC   \n",
       "3             2.0              0.0             0.0        0.0      IMC   \n",
       "4             1.0              2.0             0.0        0.0      VMC   \n",
       "\n",
       "   Flight_Phase   Report_Status         City State  \n",
       "0        Cruise  Probable Cause  Moose Creek    ID  \n",
       "1           NaN  Probable Cause   Bridgeport    CA  \n",
       "2        Cruise  Probable Cause    Saltville    VA  \n",
       "3        Cruise  Probable Cause       Eureka    CA  \n",
       "4      Approach  Probable Cause       Canton    OH  \n",
       "\n",
       "[5 rows x 22 columns]"
      ]
     },
     "execution_count": 98,
     "metadata": {},
     "output_type": "execute_result"
    }
   ],
   "source": [
    "df.head()"
   ]
  },
  {
   "cell_type": "code",
   "execution_count": 99,
   "id": "e2d6abb6",
   "metadata": {},
   "outputs": [
    {
     "data": {
      "text/plain": [
       "Model\n",
       "152           2323\n",
       "172           1637\n",
       "172N          1136\n",
       "PA-28-140      909\n",
       "150            790\n",
       "172M           773\n",
       "172P           680\n",
       "180            617\n",
       "182            589\n",
       "PA-18-150      578\n",
       "150M           578\n",
       "PA-18          578\n",
       "PA-28-180      567\n",
       "PA-28-161      556\n",
       "PA-28-181      516\n",
       "206B           462\n",
       "PA-38-112      460\n",
       "G-164A         460\n",
       "150L           452\n",
       "A36            434\n",
       "G-164B         416\n",
       "140            400\n",
       "170B           387\n",
       "172S           368\n",
       "PA-24-250      348\n",
       "182P           347\n",
       "PA-32-300      339\n",
       "PA-28R-200     327\n",
       "PA-12          323\n",
       "269C           320\n",
       "A188B          307\n",
       "7AC            295\n",
       "177            289\n",
       "206            283\n",
       "PA-22-150      280\n",
       "185            278\n",
       "7GCBC          277\n",
       "A185F          277\n",
       "M20J           277\n",
       "7ECA           267\n",
       "150F           262\n",
       "182Q           261\n",
       "PA-23-250      259\n",
       "PA-25-235      251\n",
       "PA-31-350      251\n",
       "150H           243\n",
       "150G           240\n",
       "SR22           240\n",
       "172RG          237\n",
       "T210N          235\n",
       "Name: count, dtype: int64"
      ]
     },
     "execution_count": 99,
     "metadata": {},
     "output_type": "execute_result"
    }
   ],
   "source": [
    "#Cleaning Model Column. Start by looking at top 50 values\n",
    "df.Model.value_counts().head(50)"
   ]
  },
  {
   "cell_type": "markdown",
   "id": "7cc71b6e",
   "metadata": {},
   "source": [
    "Many models start with the same number like 172, 150, 206, and 182 are followed by other letters. Let's group some of the more commonly occuring numbers."
   ]
  },
  {
   "cell_type": "code",
   "execution_count": 100,
   "id": "8edcf035",
   "metadata": {},
   "outputs": [],
   "source": [
    "df['Model_Simplified']=df['Model'].str.slice(0,3)"
   ]
  },
  {
   "cell_type": "markdown",
   "id": "fe337607",
   "metadata": {},
   "source": [
    "df['Model_Simplified'].value_counts().head(50)"
   ]
  },
  {
   "cell_type": "markdown",
   "id": "6989859a",
   "metadata": {},
   "source": [
    "### Creating a Better Fatality Metric\n",
    "Before moving on to analysis, it is important to consider what metric we will use to quantify the severity of a plane crash. One option is to use number of fatalities, but this does not take size of the plane/ total passengers into account. Another option is creating a ratio showing fatlities/total passengers which would make it easier to compare different flights to one another. The third option and one we will use in this analysis is the classification of Injurity_Severity, specifcially the investigations where the Injurity_Severity column is classified as \"Fatal\"."
   ]
  },
  {
   "cell_type": "code",
   "execution_count": 101,
   "id": "673259db",
   "metadata": {},
   "outputs": [
    {
     "data": {
      "text/html": [
       "<div>\n",
       "<style scoped>\n",
       "    .dataframe tbody tr th:only-of-type {\n",
       "        vertical-align: middle;\n",
       "    }\n",
       "\n",
       "    .dataframe tbody tr th {\n",
       "        vertical-align: top;\n",
       "    }\n",
       "\n",
       "    .dataframe thead th {\n",
       "        text-align: right;\n",
       "    }\n",
       "</style>\n",
       "<table border=\"1\" class=\"dataframe\">\n",
       "  <thead>\n",
       "    <tr style=\"text-align: right;\">\n",
       "      <th></th>\n",
       "      <th>ID</th>\n",
       "      <th>Type</th>\n",
       "      <th>Accident_Number</th>\n",
       "      <th>Date</th>\n",
       "      <th>Country</th>\n",
       "      <th>Injury_Severity</th>\n",
       "      <th>Damage</th>\n",
       "      <th>Category</th>\n",
       "      <th>Make</th>\n",
       "      <th>Model</th>\n",
       "      <th>...</th>\n",
       "      <th>Fatal_Injuries</th>\n",
       "      <th>Serious_Injuries</th>\n",
       "      <th>Minor_Injuries</th>\n",
       "      <th>Uninjured</th>\n",
       "      <th>Weather</th>\n",
       "      <th>Flight_Phase</th>\n",
       "      <th>Report_Status</th>\n",
       "      <th>City</th>\n",
       "      <th>State</th>\n",
       "      <th>Model_Simplified</th>\n",
       "    </tr>\n",
       "  </thead>\n",
       "  <tbody>\n",
       "    <tr>\n",
       "      <th>0</th>\n",
       "      <td>20001218X45444</td>\n",
       "      <td>Accident</td>\n",
       "      <td>SEA87LA080</td>\n",
       "      <td>1948-10-24</td>\n",
       "      <td>United States</td>\n",
       "      <td>Fatal</td>\n",
       "      <td>Destroyed</td>\n",
       "      <td>NaN</td>\n",
       "      <td>Stinson</td>\n",
       "      <td>108-3</td>\n",
       "      <td>...</td>\n",
       "      <td>2.0</td>\n",
       "      <td>0.0</td>\n",
       "      <td>0.0</td>\n",
       "      <td>0.0</td>\n",
       "      <td>NaN</td>\n",
       "      <td>Cruise</td>\n",
       "      <td>Probable Cause</td>\n",
       "      <td>Moose Creek</td>\n",
       "      <td>ID</td>\n",
       "      <td>108</td>\n",
       "    </tr>\n",
       "    <tr>\n",
       "      <th>1</th>\n",
       "      <td>20001218X45447</td>\n",
       "      <td>Accident</td>\n",
       "      <td>LAX94LA336</td>\n",
       "      <td>1962-07-19</td>\n",
       "      <td>United States</td>\n",
       "      <td>Fatal</td>\n",
       "      <td>Destroyed</td>\n",
       "      <td>NaN</td>\n",
       "      <td>Piper</td>\n",
       "      <td>PA24-180</td>\n",
       "      <td>...</td>\n",
       "      <td>4.0</td>\n",
       "      <td>0.0</td>\n",
       "      <td>0.0</td>\n",
       "      <td>0.0</td>\n",
       "      <td>NaN</td>\n",
       "      <td>NaN</td>\n",
       "      <td>Probable Cause</td>\n",
       "      <td>Bridgeport</td>\n",
       "      <td>CA</td>\n",
       "      <td>PA2</td>\n",
       "    </tr>\n",
       "    <tr>\n",
       "      <th>2</th>\n",
       "      <td>20061025X01555</td>\n",
       "      <td>Accident</td>\n",
       "      <td>NYC07LA005</td>\n",
       "      <td>1974-08-30</td>\n",
       "      <td>United States</td>\n",
       "      <td>Fatal</td>\n",
       "      <td>Destroyed</td>\n",
       "      <td>NaN</td>\n",
       "      <td>Cessna</td>\n",
       "      <td>172M</td>\n",
       "      <td>...</td>\n",
       "      <td>3.0</td>\n",
       "      <td>0.0</td>\n",
       "      <td>0.0</td>\n",
       "      <td>1.0</td>\n",
       "      <td>IMC</td>\n",
       "      <td>Cruise</td>\n",
       "      <td>Probable Cause</td>\n",
       "      <td>Saltville</td>\n",
       "      <td>VA</td>\n",
       "      <td>172</td>\n",
       "    </tr>\n",
       "    <tr>\n",
       "      <th>3</th>\n",
       "      <td>20001218X45448</td>\n",
       "      <td>Accident</td>\n",
       "      <td>LAX96LA321</td>\n",
       "      <td>1977-06-19</td>\n",
       "      <td>United States</td>\n",
       "      <td>Fatal</td>\n",
       "      <td>Destroyed</td>\n",
       "      <td>NaN</td>\n",
       "      <td>Rockwell</td>\n",
       "      <td>112</td>\n",
       "      <td>...</td>\n",
       "      <td>2.0</td>\n",
       "      <td>0.0</td>\n",
       "      <td>0.0</td>\n",
       "      <td>0.0</td>\n",
       "      <td>IMC</td>\n",
       "      <td>Cruise</td>\n",
       "      <td>Probable Cause</td>\n",
       "      <td>Eureka</td>\n",
       "      <td>CA</td>\n",
       "      <td>112</td>\n",
       "    </tr>\n",
       "    <tr>\n",
       "      <th>4</th>\n",
       "      <td>20041105X01764</td>\n",
       "      <td>Accident</td>\n",
       "      <td>CHI79FA064</td>\n",
       "      <td>1979-08-02</td>\n",
       "      <td>United States</td>\n",
       "      <td>Fatal</td>\n",
       "      <td>Destroyed</td>\n",
       "      <td>NaN</td>\n",
       "      <td>Cessna</td>\n",
       "      <td>501</td>\n",
       "      <td>...</td>\n",
       "      <td>1.0</td>\n",
       "      <td>2.0</td>\n",
       "      <td>0.0</td>\n",
       "      <td>0.0</td>\n",
       "      <td>VMC</td>\n",
       "      <td>Approach</td>\n",
       "      <td>Probable Cause</td>\n",
       "      <td>Canton</td>\n",
       "      <td>OH</td>\n",
       "      <td>501</td>\n",
       "    </tr>\n",
       "  </tbody>\n",
       "</table>\n",
       "<p>5 rows × 23 columns</p>\n",
       "</div>"
      ],
      "text/plain": [
       "               ID      Type Accident_Number       Date        Country  \\\n",
       "0  20001218X45444  Accident      SEA87LA080 1948-10-24  United States   \n",
       "1  20001218X45447  Accident      LAX94LA336 1962-07-19  United States   \n",
       "2  20061025X01555  Accident      NYC07LA005 1974-08-30  United States   \n",
       "3  20001218X45448  Accident      LAX96LA321 1977-06-19  United States   \n",
       "4  20041105X01764  Accident      CHI79FA064 1979-08-02  United States   \n",
       "\n",
       "  Injury_Severity     Damage Category      Make     Model  ... Fatal_Injuries  \\\n",
       "0           Fatal  Destroyed      NaN   Stinson     108-3  ...            2.0   \n",
       "1           Fatal  Destroyed      NaN     Piper  PA24-180  ...            4.0   \n",
       "2           Fatal  Destroyed      NaN    Cessna      172M  ...            3.0   \n",
       "3           Fatal  Destroyed      NaN  Rockwell       112  ...            2.0   \n",
       "4           Fatal  Destroyed      NaN    Cessna       501  ...            1.0   \n",
       "\n",
       "   Serious_Injuries Minor_Injuries  Uninjured  Weather  Flight_Phase  \\\n",
       "0               0.0            0.0        0.0      NaN        Cruise   \n",
       "1               0.0            0.0        0.0      NaN           NaN   \n",
       "2               0.0            0.0        1.0      IMC        Cruise   \n",
       "3               0.0            0.0        0.0      IMC        Cruise   \n",
       "4               2.0            0.0        0.0      VMC      Approach   \n",
       "\n",
       "    Report_Status         City State Model_Simplified  \n",
       "0  Probable Cause  Moose Creek    ID              108  \n",
       "1  Probable Cause   Bridgeport    CA              PA2  \n",
       "2  Probable Cause    Saltville    VA              172  \n",
       "3  Probable Cause       Eureka    CA              112  \n",
       "4  Probable Cause       Canton    OH              501  \n",
       "\n",
       "[5 rows x 23 columns]"
      ]
     },
     "execution_count": 101,
     "metadata": {},
     "output_type": "execute_result"
    }
   ],
   "source": [
    "df.head()\n"
   ]
  },
  {
   "cell_type": "code",
   "execution_count": 102,
   "id": "27073f76",
   "metadata": {},
   "outputs": [],
   "source": [
    "#Create new column for total passengers on each flight\n",
    "df['Total_Passengers']=df['Fatal_Injuries']+df['Serious_Injuries']+df['Minor_Injuries']+df['Uninjured']\n",
    "df['Fatality_Rate']=df['Fatal_Injuries']/df['Total_Passengers']\n"
   ]
  },
  {
   "cell_type": "code",
   "execution_count": 103,
   "id": "169f6422",
   "metadata": {},
   "outputs": [
    {
     "data": {
      "text/plain": [
       "Fatality_Rate\n",
       "0.000000    67037\n",
       "1.000000    10370\n",
       "0.500000     2217\n",
       "0.666667      853\n",
       "0.333333      464\n",
       "            ...  \n",
       "0.476190        1\n",
       "0.031746        1\n",
       "0.025281        1\n",
       "0.129630        1\n",
       "0.538462        1\n",
       "Name: count, Length: 115, dtype: int64"
      ]
     },
     "execution_count": 103,
     "metadata": {},
     "output_type": "execute_result"
    }
   ],
   "source": [
    "df.Fatality_Rate.value_counts()"
   ]
  },
  {
   "cell_type": "markdown",
   "id": "26663a61",
   "metadata": {},
   "source": [
    "### Data Preparation Summary\n",
    "\n",
    "Here is a recap of the steps we took for data preparation:\n",
    "\n",
    "1. Changed Event Date to datetime format.\n",
    "2. Checked for duplicates.\n",
    "3. Checked for null values and decided to drop columns that contained over 30% null values.\n",
    "4. Dropped columns that we did not need for this partifcular analysis.\n",
    "5. Dropped certain rows with missing data for Make, Model, and Amateur Build.\n",
    "6. Split Injury Severity column to only contain the first word since the exact number is contained in the other columns.\n",
    "7. Rename columns to simplify analyses.\n",
    "8. Replaced null values with the median in Number of Engines column.\n",
    "9. Replaced variations of value Unknown with a standardized version.\n",
    "10. Limited data set to just USA.\n",
    "11. Split location into city and state columns.\n",
    "12. Replaced Engines, Fatal Injuries, Serious Injuries, and Uninjured columns with median.\n",
    "13. Create simplified Model column containing zero to three digits or letters of Model to contain larger groups of Models and give us the ability to drill down if needed.\n",
    "14. This dataset includes entires spanning from the years 1962 to 2023. Since there have been many improvements in recent years, we will limit our analyses to only include entries from 2000 onward."
   ]
  },
  {
   "cell_type": "code",
   "execution_count": 104,
   "id": "baed55fc",
   "metadata": {},
   "outputs": [],
   "source": [
    "df.to_csv('aviation.csv')"
   ]
  },
  {
   "cell_type": "code",
   "execution_count": 105,
   "id": "2e1bd162",
   "metadata": {},
   "outputs": [],
   "source": [
    "#pd to csv and look at visualizations in tableau\n",
    "#50% drop column, less than 5% drop rows\n",
    "#think about what factors the company can actually control (weather vs model). go from engine to amateur build to engine type\n",
    "#since dataset is only incidents, look at factors of relative safety. also percentage of passengers who died consider total people on flight"
   ]
  },
  {
   "cell_type": "markdown",
   "id": "02d61b90",
   "metadata": {},
   "source": [
    "# Exploratory Data Analysis"
   ]
  },
  {
   "cell_type": "markdown",
   "id": "80e3bf9b",
   "metadata": {},
   "source": [
    "import seaborn as sns"
   ]
  },
  {
   "cell_type": "markdown",
   "id": "652082d9",
   "metadata": {},
   "source": [
    "## Exploring Make and Model\n"
   ]
  },
  {
   "cell_type": "code",
   "execution_count": 106,
   "id": "e119c269",
   "metadata": {},
   "outputs": [],
   "source": [
    "import seaborn as sns"
   ]
  },
  {
   "cell_type": "markdown",
   "id": "f0113eca",
   "metadata": {},
   "source": [
    "## Exploring Dates"
   ]
  },
  {
   "cell_type": "code",
   "execution_count": 107,
   "id": "f363ee7f",
   "metadata": {},
   "outputs": [
    {
     "data": {
      "text/plain": [
       "array(['1948-10-24T00:00:00.000000000', '1962-07-19T00:00:00.000000000',\n",
       "       '1974-08-30T00:00:00.000000000', ...,\n",
       "       '2022-12-26T00:00:00.000000000', '2022-12-26T00:00:00.000000000',\n",
       "       '2022-12-29T00:00:00.000000000'], dtype='datetime64[ns]')"
      ]
     },
     "execution_count": 107,
     "metadata": {},
     "output_type": "execute_result"
    }
   ],
   "source": [
    "df.Date.values"
   ]
  },
  {
   "cell_type": "code",
   "execution_count": 108,
   "id": "321567ef",
   "metadata": {},
   "outputs": [
    {
     "data": {
      "text/plain": [
       "Text(0, 0.5, 'Fatalities')"
      ]
     },
     "execution_count": 108,
     "metadata": {},
     "output_type": "execute_result"
    },
    {
     "data": {
      "image/png": "[encoded data removed]",
      "text/plain": [
       "<Figure size 1600x900 with 1 Axes>"
      ]
     },
     "metadata": {},
     "output_type": "display_data"
    }
   ],
   "source": [
    "#Fatal Injuries by Year\n",
    "fig,ax=plt.subplots(figsize=(16,9))\n",
    "ax.plot(df['Date'], df['Fatal_Injuries'])\n",
    "ax.set_xlabel('Date')\n",
    "ax.set_ylabel('Fatalities')"
   ]
  },
  {
   "cell_type": "code",
   "execution_count": 109,
   "id": "4c6a605d",
   "metadata": {},
   "outputs": [
    {
     "data": {
      "text/plain": [
       "[<matplotlib.lines.Line2D at 0x150fccde090>]"
      ]
     },
     "execution_count": 109,
     "metadata": {},
     "output_type": "execute_result"
    },
    {
     "data": {
      "image/png": "[encoded data removed]",
      "text/plain": [
       "<Figure size 640x480 with 1 Axes>"
      ]
     },
     "metadata": {},
     "output_type": "display_data"
    }
   ],
   "source": [
    "df_year=df.groupby(df['Date'].dt.year)['Fatal_Injuries'].sum()\n",
    "df_year.head()\n",
    "\n",
    "plt.plot(df_year)"
   ]
  },
  {
   "cell_type": "code",
   "execution_count": 110,
   "id": "b7ce6893",
   "metadata": {},
   "outputs": [
    {
     "data": {
      "text/plain": [
       "Date\n",
       "1948       2.0\n",
       "1962       4.0\n",
       "1974       3.0\n",
       "1977       2.0\n",
       "1979       1.0\n",
       "1981       4.0\n",
       "1982    1550.0\n",
       "1983    1259.0\n",
       "1984    1197.0\n",
       "1985    1346.0\n",
       "1986    1157.0\n",
       "1987    1192.0\n",
       "1988     892.0\n",
       "1989    1058.0\n",
       "1990     944.0\n",
       "1991    1033.0\n",
       "1992     974.0\n",
       "1993     805.0\n",
       "1994    1064.0\n",
       "1995     776.0\n",
       "1996    1021.0\n",
       "1997     946.0\n",
       "1998     649.0\n",
       "1999     658.0\n",
       "2000     757.0\n",
       "2001    1155.0\n",
       "2002     602.0\n",
       "2003     706.0\n",
       "2004     636.0\n",
       "2005     573.0\n",
       "2006     620.0\n",
       "2007     539.0\n",
       "2008     519.0\n",
       "2009     515.0\n",
       "2010     443.0\n",
       "2011     470.0\n",
       "2012     407.0\n",
       "2013     383.0\n",
       "2014     384.0\n",
       "2015     397.0\n",
       "2016     378.0\n",
       "2017     333.0\n",
       "2018     377.0\n",
       "2019     412.0\n",
       "2020     330.0\n",
       "2021     336.0\n",
       "2022     343.0\n",
       "Name: Fatal_Injuries, dtype: float64"
      ]
     },
     "execution_count": 110,
     "metadata": {},
     "output_type": "execute_result"
    }
   ],
   "source": [
    "df_year.head(50)"
   ]
  },
  {
   "cell_type": "markdown",
   "id": "8faa924c",
   "metadata": {},
   "source": [
    "Since there is a steep drop off between 2001 and 2002 and technology has improved in the 21st century, we will only include data from 2002 onward in our analysis"
   ]
  },
  {
   "cell_type": "code",
   "execution_count": 111,
   "id": "ed87f29f",
   "metadata": {},
   "outputs": [
    {
     "data": {
      "text/plain": [
       "51958    0.0\n",
       "51959    2.0\n",
       "51960    2.0\n",
       "51961    2.0\n",
       "51962    3.0\n",
       "        ... \n",
       "88884    1.0\n",
       "88885    1.0\n",
       "88886    1.0\n",
       "88887    1.0\n",
       "88888    1.0\n",
       "Name: Engines, Length: 27726, dtype: float64"
      ]
     },
     "execution_count": 111,
     "metadata": {},
     "output_type": "execute_result"
    }
   ],
   "source": [
    "#Limited dataset to only be 2002 onward\n",
    "df_subset=df[(df['Date'].dt.year>=2002) & (df['Amateur_Built']=='No')]\n",
    "df_subset.Engines"
   ]
  },
  {
   "cell_type": "code",
   "execution_count": 112,
   "id": "fd693302",
   "metadata": {},
   "outputs": [
    {
     "data": {
      "text/plain": [
       "Category\n",
       "Airplane             24201\n",
       "Helicopter            2719\n",
       "Glider                 503\n",
       "Balloon                229\n",
       "Gyrocraft              172\n",
       "Weight-Shift           161\n",
       "Powered Parachute       90\n",
       "Ultralight              25\n",
       "WSFT                     9\n",
       "Blimp                    4\n",
       "Powered-Lift             3\n",
       "Rocket                   1\n",
       "ULTR                     1\n",
       "Name: count, dtype: int64"
      ]
     },
     "execution_count": 112,
     "metadata": {},
     "output_type": "execute_result"
    }
   ],
   "source": [
    "df.Category.value_counts()"
   ]
  },
  {
   "cell_type": "code",
   "execution_count": 113,
   "id": "7c0683cf",
   "metadata": {},
   "outputs": [
    {
     "data": {
      "text/plain": [
       "Category\n",
       "Airplane    17979\n",
       "Name: count, dtype: int64"
      ]
     },
     "execution_count": 113,
     "metadata": {},
     "output_type": "execute_result"
    }
   ],
   "source": [
    "#Limit dataset to airplanes\n",
    "df_subset=df_subset[(df_subset['Category']=='Airplane')]\n",
    "df_subset.Category.value_counts()"
   ]
  },
  {
   "cell_type": "markdown",
   "id": "102ec385",
   "metadata": {},
   "source": [
    "## Exploring Engines"
   ]
  },
  {
   "cell_type": "code",
   "execution_count": 114,
   "id": "dd058879",
   "metadata": {},
   "outputs": [
    {
     "data": {
      "text/plain": [
       "array([15589,  2327,    38,    20,     3,     1,     1], dtype=int64)"
      ]
     },
     "execution_count": 114,
     "metadata": {},
     "output_type": "execute_result"
    }
   ],
   "source": [
    "df_subset.Engines.value_counts().values"
   ]
  },
  {
   "cell_type": "code",
   "execution_count": 115,
   "id": "963d5a2f",
   "metadata": {},
   "outputs": [
    {
     "data": {
      "text/plain": [
       "Text(0, 0.5, 'Number of Investigations')"
      ]
     },
     "execution_count": 115,
     "metadata": {},
     "output_type": "execute_result"
    },
    {
     "data": {
      "image/png": "[encoded data removed]",
      "text/plain": [
       "<Figure size 1600x900 with 1 Axes>"
      ]
     },
     "metadata": {},
     "output_type": "display_data"
    }
   ],
   "source": [
    "fig, ax = plt.subplots(figsize=(16,9))\n",
    "sns.set_style('white')\n",
    "engines=sns.barplot(x=df_subset['Engines'].value_counts().index, y=df_subset['Engines'].value_counts().values,data=df_subset, palette='Blues')\n",
    "engines.set_title('Number of Engines on Crashed Aircraft')\n",
    "engines.set_xlabel('Number of Engines')\n",
    "engines.set_ylabel('Number of Investigations')"
   ]
  },
  {
   "cell_type": "markdown",
   "id": "196ed68b",
   "metadata": {},
   "source": [
    "It makes sense that the most aircraft involved in incidents in our dataset only had one engine. That means there is no other engine to rely on if one fails and there is less time for an emergency landing."
   ]
  },
  {
   "cell_type": "code",
   "execution_count": 116,
   "id": "84a9059f",
   "metadata": {},
   "outputs": [
    {
     "data": {
      "text/plain": [
       "Engine_Type\n",
       "Reciprocating    14452\n",
       "Turbo Prop        1101\n",
       "Turbo Fan          636\n",
       "Turbo Jet          115\n",
       "Turbo Shaft         10\n",
       "Electric             5\n",
       "Name: count, dtype: int64"
      ]
     },
     "execution_count": 116,
     "metadata": {},
     "output_type": "execute_result"
    }
   ],
   "source": [
    "#Exploring Engine Types\n",
    "df_subset['Engine_Type'].value_counts()"
   ]
  },
  {
   "cell_type": "code",
   "execution_count": 117,
   "id": "86ebd84a",
   "metadata": {},
   "outputs": [
    {
     "data": {
      "text/plain": [
       "Text(0, 0.5, 'Number of Investigations')"
      ]
     },
     "execution_count": 117,
     "metadata": {},
     "output_type": "execute_result"
    },
    {
     "data": {
      "image/png": "[encoded data removed]",
      "text/plain": [
       "<Figure size 1600x900 with 1 Axes>"
      ]
     },
     "metadata": {},
     "output_type": "display_data"
    }
   ],
   "source": [
    "#Plotting Engine Types\n",
    "fig, ax = plt.subplots(figsize=(16,9))\n",
    "sns.set_style('white')\n",
    "engines=sns.barplot(x=df_subset['Engine_Type'].value_counts().index, y=df_subset['Engine_Type'].value_counts().values,data=df_subset, palette='Blues')\n",
    "engines.set_title('Type of Engines Involved in Crashes')\n",
    "engines.set_xlabel('Engine Type')\n",
    "engines.set_ylabel('Number of Investigations')"
   ]
  },
  {
   "cell_type": "markdown",
   "id": "f7535a8e",
   "metadata": {},
   "source": [
    "Looks like Reciprocating Engines are involved in the most crashes. Let's filter aircraft with zero and one engine out of the dataset and see if this result changes."
   ]
  },
  {
   "cell_type": "code",
   "execution_count": 118,
   "id": "958d30c7",
   "metadata": {},
   "outputs": [
    {
     "data": {
      "text/plain": [
       "<bound method IndexOpsMixin.value_counts of 51981    2.0\n",
       "52049    2.0\n",
       "52361    2.0\n",
       "52813    2.0\n",
       "53002    2.0\n",
       "        ... \n",
       "88834    2.0\n",
       "88836    2.0\n",
       "88858    2.0\n",
       "88869    2.0\n",
       "88876    2.0\n",
       "Name: Engines, Length: 2387, dtype: float64>"
      ]
     },
     "execution_count": 118,
     "metadata": {},
     "output_type": "execute_result"
    }
   ],
   "source": [
    "df_subset=df_subset[df_subset['Engines']>=2]\n",
    "df_subset.Engines.value_counts"
   ]
  },
  {
   "cell_type": "code",
   "execution_count": 119,
   "id": "f3415482",
   "metadata": {},
   "outputs": [
    {
     "data": {
      "text/plain": [
       "Text(0, 0.5, 'Number of Investigations')"
      ]
     },
     "execution_count": 119,
     "metadata": {},
     "output_type": "execute_result"
    },
    {
     "data": {
      "image/png": "[encoded data removed]",
      "text/plain": [
       "<Figure size 1600x900 with 1 Axes>"
      ]
     },
     "metadata": {},
     "output_type": "display_data"
    }
   ],
   "source": [
    "fig, ax = plt.subplots(figsize=(16,9))\n",
    "sns.set_style('white')\n",
    "engines=sns.barplot(x=df_subset['Engine_Type'].value_counts().index, y=df_subset['Engine_Type'].value_counts().values,data=df_subset, palette='Blues')\n",
    "engines.set_title('Type of Engines Involved in Crashes')\n",
    "engines.set_xlabel('Engine Type')\n",
    "engines.set_ylabel('Number of Investigations')"
   ]
  },
  {
   "cell_type": "markdown",
   "id": "155886c0",
   "metadata": {},
   "source": [
    "Reciprocating still seems to be involved in the most crashes, but there is not as a drastic of a difference between Reciprocating and Turbo Fan now. Although it still seems that reciprocating engines are involved in the most accidents, so let's filter them out."
   ]
  },
  {
   "cell_type": "code",
   "execution_count": 120,
   "id": "4e40d810",
   "metadata": {},
   "outputs": [
    {
     "data": {
      "text/plain": [
       "Engine_Type\n",
       "Turbo Fan      600\n",
       "Turbo Prop     355\n",
       "Turbo Jet       84\n",
       "Electric         3\n",
       "Turbo Shaft      2\n",
       "Name: count, dtype: int64"
      ]
     },
     "execution_count": 120,
     "metadata": {},
     "output_type": "execute_result"
    }
   ],
   "source": [
    "df_subset=df_subset[df_subset['Engine_Type']!='Reciprocating']\n",
    "df_subset.Engine_Type.value_counts()"
   ]
  },
  {
   "cell_type": "code",
   "execution_count": 121,
   "id": "594b918a",
   "metadata": {},
   "outputs": [
    {
     "name": "stdout",
     "output_type": "stream",
     "text": [
      "<class 'pandas.core.frame.DataFrame'>\n",
      "Index: 1313 entries, 51981 to 88876\n",
      "Data columns (total 25 columns):\n",
      " #   Column            Non-Null Count  Dtype         \n",
      "---  ------            --------------  -----         \n",
      " 0   ID                1313 non-null   object        \n",
      " 1   Type              1313 non-null   object        \n",
      " 2   Accident_Number   1313 non-null   object        \n",
      " 3   Date              1313 non-null   datetime64[ns]\n",
      " 4   Country           1313 non-null   object        \n",
      " 5   Injury_Severity   1265 non-null   object        \n",
      " 6   Damage            1001 non-null   object        \n",
      " 7   Category          1313 non-null   object        \n",
      " 8   Make              1313 non-null   object        \n",
      " 9   Model             1313 non-null   object        \n",
      " 10  Amateur_Built     1313 non-null   object        \n",
      " 11  Engines           1313 non-null   float64       \n",
      " 12  Engine_Type       1044 non-null   object        \n",
      " 13  Fatal_Injuries    1313 non-null   float64       \n",
      " 14  Serious_Injuries  1313 non-null   float64       \n",
      " 15  Minor_Injuries    1313 non-null   float64       \n",
      " 16  Uninjured         1313 non-null   float64       \n",
      " 17  Weather           1197 non-null   object        \n",
      " 18  Flight_Phase      125 non-null    object        \n",
      " 19  Report_Status     1048 non-null   object        \n",
      " 20  City              1313 non-null   object        \n",
      " 21  State             1313 non-null   object        \n",
      " 22  Model_Simplified  1313 non-null   object        \n",
      " 23  Total_Passengers  1313 non-null   float64       \n",
      " 24  Fatality_Rate     1253 non-null   float64       \n",
      "dtypes: datetime64[ns](1), float64(7), object(17)\n",
      "memory usage: 266.7+ KB\n"
     ]
    }
   ],
   "source": [
    "df_subset.info()"
   ]
  },
  {
   "cell_type": "code",
   "execution_count": 122,
   "id": "cca65a27",
   "metadata": {},
   "outputs": [
    {
     "data": {
      "text/plain": [
       "Text(0, 0.5, 'Number of Investigations')"
      ]
     },
     "execution_count": 122,
     "metadata": {},
     "output_type": "execute_result"
    },
    {
     "data": {
      "image/png": "[encoded data removed]",
      "text/plain": [
       "<Figure size 1600x900 with 1 Axes>"
      ]
     },
     "metadata": {},
     "output_type": "display_data"
    }
   ],
   "source": [
    "#Showing Top Makes Involved in Accidents\n",
    "fig, ax = plt.subplots(figsize=(16,9))\n",
    "sns.set_style('white')\n",
    "df_make=sns.barplot(data=df_subset, x=df_subset.Make.value_counts().index[:10], y=df_subset.Make.value_counts().values[:10], palette='Blues')\n",
    "df_make.set_title('Top 10 Makes Found in Investigations')\n",
    "df_make.set_xlabel('Make')\n",
    "df_make.set_xticklabels(df_subset.Make.value_counts().index[:10], rotation=-45)\n",
    "df_make.set_ylabel('Number of Investigations')"
   ]
  },
  {
   "cell_type": "code",
   "execution_count": 123,
   "id": "d16c9931",
   "metadata": {},
   "outputs": [
    {
     "data": {
      "text/plain": [
       "Injury_Severity\n",
       "Non-Fatal    1053\n",
       "Fatal         171\n",
       "Incident       20\n",
       "Minor          11\n",
       "Serious        10\n",
       "Name: count, dtype: int64"
      ]
     },
     "execution_count": 123,
     "metadata": {},
     "output_type": "execute_result"
    }
   ],
   "source": [
    "df_subset.Injury_Severity.value_counts()"
   ]
  },
  {
   "cell_type": "code",
   "execution_count": 124,
   "id": "0c05b53b",
   "metadata": {},
   "outputs": [
    {
     "data": {
      "text/plain": [
       "(171, 25)"
      ]
     },
     "execution_count": 124,
     "metadata": {},
     "output_type": "execute_result"
    }
   ],
   "source": [
    "df_subset_fatal=df_subset[df_subset['Injury_Severity']=='Fatal']\n",
    "df_subset_fatal.shape"
   ]
  },
  {
   "cell_type": "code",
   "execution_count": 125,
   "id": "45ff81a9",
   "metadata": {
    "scrolled": true
   },
   "outputs": [
    {
     "data": {
      "text/plain": [
       "Text(0, 0.5, 'Number of Fatal Investigations')"
      ]
     },
     "execution_count": 125,
     "metadata": {},
     "output_type": "execute_result"
    },
    {
     "data": {
      "image/png": "[encoded data removed]",
      "text/plain": [
       "<Figure size 1600x900 with 1 Axes>"
      ]
     },
     "metadata": {},
     "output_type": "display_data"
    }
   ],
   "source": [
    "#Showing Top Makes Involved in Fatal Accidents\n",
    "fig, ax = plt.subplots(figsize=(16,9))\n",
    "sns.set_style('white')\n",
    "df_make=sns.barplot(data=df_subset_fatal, x=df_subset_fatal.Make.value_counts().index[:10], y=df_subset_fatal.Make.value_counts().values[:10],palette='Blues')\n",
    "df_make.set_title('Top 10 Makes Found in Fatal Investigations')\n",
    "df_make.set_xlabel('Make')\n",
    "df_make.set_xticklabels(df_subset_fatal.Make.value_counts().index[:10],rotation=-45)\n",
    "df_make.set_ylabel('Number of Fatal Investigations')"
   ]
  },
  {
   "cell_type": "code",
   "execution_count": 128,
   "id": "1331f6fa",
   "metadata": {},
   "outputs": [
    {
     "data": {
      "text/plain": [
       "(1053, 25)"
      ]
     },
     "execution_count": 128,
     "metadata": {},
     "output_type": "execute_result"
    }
   ],
   "source": [
    "df_subset_nonfatal=df_subset[df_subset['Injury_Severity']=='Non-Fatal']\n",
    "df_subset_nonfatal.shape"
   ]
  },
  {
   "cell_type": "code",
   "execution_count": 129,
   "id": "4e13b908",
   "metadata": {},
   "outputs": [
    {
     "data": {
      "text/plain": [
       "Text(0, 0.5, 'Number of Non-Fatal Investigations')"
      ]
     },
     "execution_count": 129,
     "metadata": {},
     "output_type": "execute_result"
    },
    {
     "data": {
      "image/png": "[encoded data removed]",
      "text/plain": [
       "<Figure size 1600x900 with 1 Axes>"
      ]
     },
     "metadata": {},
     "output_type": "display_data"
    }
   ],
   "source": [
    "#Showing Top Makes Involved in Accidents\n",
    "fig, ax = plt.subplots(figsize=(16,9))\n",
    "sns.set_style('white')\n",
    "df_make=sns.barplot(data=df_subset_nonfatal, x=df_subset_nonfatal.Make.value_counts().index[:10], y=df_subset_nonfatal.Make.value_counts().values[:10],palette='Blues')\n",
    "df_make.set_title('Top 10 Makes Found in Non-Fatal Investigations')\n",
    "df_make.set_xlabel('Make')\n",
    "df_make.set_xticklabels(df_subset_nonfatal.Make.value_counts().index[:10],rotation=-45)\n",
    "df_make.set_ylabel('Number of Non-Fatal Investigations')"
   ]
  },
  {
   "cell_type": "code",
   "execution_count": null,
   "id": "0f16f9c8",
   "metadata": {},
   "outputs": [],
   "source": [
    "#Note to sel"
   ]
  },
  {
   "cell_type": "code",
   "execution_count": null,
   "id": "168efa9a",
   "metadata": {},
   "outputs": [],
   "source": []
  },
  {
   "cell_type": "code",
   "execution_count": null,
   "id": "92c94d76",
   "metadata": {},
   "outputs": [],
   "source": []
  },
  {
   "cell_type": "code",
   "execution_count": null,
   "id": "71b5a1e8",
   "metadata": {},
   "outputs": [],
   "source": []
  },
  {
   "cell_type": "code",
   "execution_count": null,
   "id": "f7b25d21",
   "metadata": {},
   "outputs": [],
   "source": []
  },
  {
   "cell_type": "markdown",
   "id": "048304b5",
   "metadata": {},
   "source": [
    "# Conclusions"
   ]
  },
  {
   "cell_type": "markdown",
   "id": "68d306e1",
   "metadata": {},
   "source": []
  },
  {
   "cell_type": "markdown",
   "id": "9ab735df",
   "metadata": {},
   "source": [
    "## Limitations"
   ]
  },
  {
   "cell_type": "markdown",
   "id": "366dc067",
   "metadata": {},
   "source": [
    "The analysis above has the following limitations:\n",
    "1. Limited to the United States.\n",
    "2. Limited to accidents reported in the the Aviation Accident Database & Synopses.\n",
    "3. This analysis excludes Amateur Built aircraft and incidents before the year 2002. "
   ]
  },
  {
   "cell_type": "markdown",
   "id": "f37c6605",
   "metadata": {},
   "source": [
    "## Recommendations"
   ]
  },
  {
   "cell_type": "markdown",
   "id": "0eefd1d0",
   "metadata": {},
   "source": [
    "### Engine\n",
    "It is not recommended to buy planes with less than two engines or reciprocating engines as they are associated with the most accidents.\n",
    "\n",
    "### Make\n"
   ]
  },
  {
   "cell_type": "markdown",
   "id": "6cb12d49",
   "metadata": {},
   "source": [
    "## Next Steps"
   ]
  },
  {
   "cell_type": "markdown",
   "id": "19fe5eaa",
   "metadata": {},
   "source": [
    "The analysis can be improved in the following ways:\n"
   ]
  },
  {
   "cell_type": "code",
   "execution_count": null,
   "id": "df97375f",
   "metadata": {},
   "outputs": [],
   "source": []
  }
 ],
 "metadata": {
  "kernelspec": {
   "display_name": "Python (learn-env)",
   "language": "python",
   "name": "learn-env"
  },
  "language_info": {
   "codemirror_mode": {
    "name": "ipython",
    "version": 3
   },
   "file_extension": ".py",
   "mimetype": "text/x-python",
   "name": "python",
   "nbconvert_exporter": "python",
   "pygments_lexer": "ipython3",
   "version": "3.11.5"
  }
 },
 "nbformat": 4,
 "nbformat_minor": 5
}
